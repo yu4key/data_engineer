{
  "nbformat": 4,
  "nbformat_minor": 0,
  "metadata": {
    "colab": {
      "provenance": []
    },
    "kernelspec": {
      "name": "python3",
      "display_name": "Python 3"
    },
    "language_info": {
      "name": "python"
    }
  },
  "cells": [
    {
      "cell_type": "code",
      "execution_count": 1,
      "metadata": {
        "id": "XrfXDFl7LRUZ"
      },
      "outputs": [],
      "source": [
        "import pandas as pd\n",
        "import numpy as np\n",
        "\n",
        "import matplotlib.pyplot as plt\n",
        "import seaborn as sns\n",
        "\n",
        "from sklearn.model_selection import RandomizedSearchCV, train_test_split\n",
        "from sklearn.linear_model import LogisticRegression\n",
        "from sklearn.feature_selection import mutual_info_classif\n",
        "from sklearn.manifold import TSNE\n",
        "from sklearn.decomposition import PCA\n",
        "from sklearn.ensemble import RandomForestClassifier\n",
        "from sklearn.tree import DecisionTreeClassifier\n",
        "\n",
        "from sklearn.preprocessing import OneHotEncoder, StandardScaler\n",
        "\n",
        "from sklearn.metrics import classification_report, f1_score, accuracy_score, roc_auc_score"
      ]
    },
    {
      "cell_type": "markdown",
      "source": [
        "# Загрузка"
      ],
      "metadata": {
        "id": "Yr45QQU-QVT3"
      }
    },
    {
      "cell_type": "code",
      "source": [
        "df_train = pd.read_csv('application_data.csv')"
      ],
      "metadata": {
        "id": "U9CbLcY4MQsl"
      },
      "execution_count": 2,
      "outputs": []
    },
    {
      "cell_type": "code",
      "source": [
        "# сократим до 100.000\n",
        "df_train = df_train.sample(100_000)"
      ],
      "metadata": {
        "id": "Dhri4NdgMTlX"
      },
      "execution_count": 3,
      "outputs": []
    },
    {
      "cell_type": "code",
      "source": [
        "df_train.info()"
      ],
      "metadata": {
        "colab": {
          "base_uri": "https://localhost:8080/"
        },
        "id": "8gx7RAQiMkxj",
        "outputId": "6e0e52f6-512f-4fef-b0b0-82de8f0815f8"
      },
      "execution_count": 4,
      "outputs": [
        {
          "output_type": "stream",
          "name": "stdout",
          "text": [
            "<class 'pandas.core.frame.DataFrame'>\n",
            "Int64Index: 100000 entries, 193220 to 203783\n",
            "Columns: 122 entries, SK_ID_CURR to AMT_REQ_CREDIT_BUREAU_YEAR\n",
            "dtypes: float64(65), int64(41), object(16)\n",
            "memory usage: 93.8+ MB\n"
          ]
        }
      ]
    },
    {
      "cell_type": "code",
      "source": [
        "df_train.head()"
      ],
      "metadata": {
        "colab": {
          "base_uri": "https://localhost:8080/",
          "height": 299
        },
        "id": "6ZfIw9JzMnw7",
        "outputId": "e20da703-888c-4dcd-ddc6-423d7dc235f1"
      },
      "execution_count": 5,
      "outputs": [
        {
          "output_type": "execute_result",
          "data": {
            "text/plain": [
              "        SK_ID_CURR  TARGET NAME_CONTRACT_TYPE CODE_GENDER FLAG_OWN_CAR  \\\n",
              "193220      324065       1         Cash loans           F            Y   \n",
              "32111       137235       0         Cash loans           F            N   \n",
              "25104       129201       0         Cash loans           F            N   \n",
              "186096      315742       0    Revolving loans           F            N   \n",
              "211059      344590       0         Cash loans           F            N   \n",
              "\n",
              "       FLAG_OWN_REALTY  CNT_CHILDREN  AMT_INCOME_TOTAL  AMT_CREDIT  \\\n",
              "193220               Y             1          135000.0    263686.5   \n",
              "32111                Y             0          270000.0    746280.0   \n",
              "25104                Y             0          279000.0    536917.5   \n",
              "186096               Y             3          112500.0    180000.0   \n",
              "211059               Y             0          144000.0   1506816.0   \n",
              "\n",
              "        AMT_ANNUITY  ...  FLAG_DOCUMENT_18 FLAG_DOCUMENT_19 FLAG_DOCUMENT_20  \\\n",
              "193220      26208.0  ...                 0                0                0   \n",
              "32111       59094.0  ...                 0                0                0   \n",
              "25104       30109.5  ...                 0                0                0   \n",
              "186096       9000.0  ...                 0                0                0   \n",
              "211059      47313.0  ...                 0                0                0   \n",
              "\n",
              "       FLAG_DOCUMENT_21 AMT_REQ_CREDIT_BUREAU_HOUR AMT_REQ_CREDIT_BUREAU_DAY  \\\n",
              "193220                0                        0.0                       0.0   \n",
              "32111                 0                        0.0                       0.0   \n",
              "25104                 0                        0.0                       0.0   \n",
              "186096                0                        0.0                       0.0   \n",
              "211059                0                        0.0                       0.0   \n",
              "\n",
              "        AMT_REQ_CREDIT_BUREAU_WEEK  AMT_REQ_CREDIT_BUREAU_MON  \\\n",
              "193220                         0.0                        0.0   \n",
              "32111                          0.0                        0.0   \n",
              "25104                          0.0                        0.0   \n",
              "186096                         0.0                        0.0   \n",
              "211059                         0.0                        0.0   \n",
              "\n",
              "        AMT_REQ_CREDIT_BUREAU_QRT  AMT_REQ_CREDIT_BUREAU_YEAR  \n",
              "193220                        0.0                         0.0  \n",
              "32111                         1.0                         0.0  \n",
              "25104                         0.0                         3.0  \n",
              "186096                        1.0                         1.0  \n",
              "211059                        0.0                         2.0  \n",
              "\n",
              "[5 rows x 122 columns]"
            ],
            "text/html": [
              "\n",
              "  <div id=\"df-7339c9de-bc11-4de5-855a-758f4bfd0c5d\">\n",
              "    <div class=\"colab-df-container\">\n",
              "      <div>\n",
              "<style scoped>\n",
              "    .dataframe tbody tr th:only-of-type {\n",
              "        vertical-align: middle;\n",
              "    }\n",
              "\n",
              "    .dataframe tbody tr th {\n",
              "        vertical-align: top;\n",
              "    }\n",
              "\n",
              "    .dataframe thead th {\n",
              "        text-align: right;\n",
              "    }\n",
              "</style>\n",
              "<table border=\"1\" class=\"dataframe\">\n",
              "  <thead>\n",
              "    <tr style=\"text-align: right;\">\n",
              "      <th></th>\n",
              "      <th>SK_ID_CURR</th>\n",
              "      <th>TARGET</th>\n",
              "      <th>NAME_CONTRACT_TYPE</th>\n",
              "      <th>CODE_GENDER</th>\n",
              "      <th>FLAG_OWN_CAR</th>\n",
              "      <th>FLAG_OWN_REALTY</th>\n",
              "      <th>CNT_CHILDREN</th>\n",
              "      <th>AMT_INCOME_TOTAL</th>\n",
              "      <th>AMT_CREDIT</th>\n",
              "      <th>AMT_ANNUITY</th>\n",
              "      <th>...</th>\n",
              "      <th>FLAG_DOCUMENT_18</th>\n",
              "      <th>FLAG_DOCUMENT_19</th>\n",
              "      <th>FLAG_DOCUMENT_20</th>\n",
              "      <th>FLAG_DOCUMENT_21</th>\n",
              "      <th>AMT_REQ_CREDIT_BUREAU_HOUR</th>\n",
              "      <th>AMT_REQ_CREDIT_BUREAU_DAY</th>\n",
              "      <th>AMT_REQ_CREDIT_BUREAU_WEEK</th>\n",
              "      <th>AMT_REQ_CREDIT_BUREAU_MON</th>\n",
              "      <th>AMT_REQ_CREDIT_BUREAU_QRT</th>\n",
              "      <th>AMT_REQ_CREDIT_BUREAU_YEAR</th>\n",
              "    </tr>\n",
              "  </thead>\n",
              "  <tbody>\n",
              "    <tr>\n",
              "      <th>193220</th>\n",
              "      <td>324065</td>\n",
              "      <td>1</td>\n",
              "      <td>Cash loans</td>\n",
              "      <td>F</td>\n",
              "      <td>Y</td>\n",
              "      <td>Y</td>\n",
              "      <td>1</td>\n",
              "      <td>135000.0</td>\n",
              "      <td>263686.5</td>\n",
              "      <td>26208.0</td>\n",
              "      <td>...</td>\n",
              "      <td>0</td>\n",
              "      <td>0</td>\n",
              "      <td>0</td>\n",
              "      <td>0</td>\n",
              "      <td>0.0</td>\n",
              "      <td>0.0</td>\n",
              "      <td>0.0</td>\n",
              "      <td>0.0</td>\n",
              "      <td>0.0</td>\n",
              "      <td>0.0</td>\n",
              "    </tr>\n",
              "    <tr>\n",
              "      <th>32111</th>\n",
              "      <td>137235</td>\n",
              "      <td>0</td>\n",
              "      <td>Cash loans</td>\n",
              "      <td>F</td>\n",
              "      <td>N</td>\n",
              "      <td>Y</td>\n",
              "      <td>0</td>\n",
              "      <td>270000.0</td>\n",
              "      <td>746280.0</td>\n",
              "      <td>59094.0</td>\n",
              "      <td>...</td>\n",
              "      <td>0</td>\n",
              "      <td>0</td>\n",
              "      <td>0</td>\n",
              "      <td>0</td>\n",
              "      <td>0.0</td>\n",
              "      <td>0.0</td>\n",
              "      <td>0.0</td>\n",
              "      <td>0.0</td>\n",
              "      <td>1.0</td>\n",
              "      <td>0.0</td>\n",
              "    </tr>\n",
              "    <tr>\n",
              "      <th>25104</th>\n",
              "      <td>129201</td>\n",
              "      <td>0</td>\n",
              "      <td>Cash loans</td>\n",
              "      <td>F</td>\n",
              "      <td>N</td>\n",
              "      <td>Y</td>\n",
              "      <td>0</td>\n",
              "      <td>279000.0</td>\n",
              "      <td>536917.5</td>\n",
              "      <td>30109.5</td>\n",
              "      <td>...</td>\n",
              "      <td>0</td>\n",
              "      <td>0</td>\n",
              "      <td>0</td>\n",
              "      <td>0</td>\n",
              "      <td>0.0</td>\n",
              "      <td>0.0</td>\n",
              "      <td>0.0</td>\n",
              "      <td>0.0</td>\n",
              "      <td>0.0</td>\n",
              "      <td>3.0</td>\n",
              "    </tr>\n",
              "    <tr>\n",
              "      <th>186096</th>\n",
              "      <td>315742</td>\n",
              "      <td>0</td>\n",
              "      <td>Revolving loans</td>\n",
              "      <td>F</td>\n",
              "      <td>N</td>\n",
              "      <td>Y</td>\n",
              "      <td>3</td>\n",
              "      <td>112500.0</td>\n",
              "      <td>180000.0</td>\n",
              "      <td>9000.0</td>\n",
              "      <td>...</td>\n",
              "      <td>0</td>\n",
              "      <td>0</td>\n",
              "      <td>0</td>\n",
              "      <td>0</td>\n",
              "      <td>0.0</td>\n",
              "      <td>0.0</td>\n",
              "      <td>0.0</td>\n",
              "      <td>0.0</td>\n",
              "      <td>1.0</td>\n",
              "      <td>1.0</td>\n",
              "    </tr>\n",
              "    <tr>\n",
              "      <th>211059</th>\n",
              "      <td>344590</td>\n",
              "      <td>0</td>\n",
              "      <td>Cash loans</td>\n",
              "      <td>F</td>\n",
              "      <td>N</td>\n",
              "      <td>Y</td>\n",
              "      <td>0</td>\n",
              "      <td>144000.0</td>\n",
              "      <td>1506816.0</td>\n",
              "      <td>47313.0</td>\n",
              "      <td>...</td>\n",
              "      <td>0</td>\n",
              "      <td>0</td>\n",
              "      <td>0</td>\n",
              "      <td>0</td>\n",
              "      <td>0.0</td>\n",
              "      <td>0.0</td>\n",
              "      <td>0.0</td>\n",
              "      <td>0.0</td>\n",
              "      <td>0.0</td>\n",
              "      <td>2.0</td>\n",
              "    </tr>\n",
              "  </tbody>\n",
              "</table>\n",
              "<p>5 rows × 122 columns</p>\n",
              "</div>\n",
              "      <button class=\"colab-df-convert\" onclick=\"convertToInteractive('df-7339c9de-bc11-4de5-855a-758f4bfd0c5d')\"\n",
              "              title=\"Convert this dataframe to an interactive table.\"\n",
              "              style=\"display:none;\">\n",
              "        \n",
              "  <svg xmlns=\"http://www.w3.org/2000/svg\" height=\"24px\"viewBox=\"0 0 24 24\"\n",
              "       width=\"24px\">\n",
              "    <path d=\"M0 0h24v24H0V0z\" fill=\"none\"/>\n",
              "    <path d=\"M18.56 5.44l.94 2.06.94-2.06 2.06-.94-2.06-.94-.94-2.06-.94 2.06-2.06.94zm-11 1L8.5 8.5l.94-2.06 2.06-.94-2.06-.94L8.5 2.5l-.94 2.06-2.06.94zm10 10l.94 2.06.94-2.06 2.06-.94-2.06-.94-.94-2.06-.94 2.06-2.06.94z\"/><path d=\"M17.41 7.96l-1.37-1.37c-.4-.4-.92-.59-1.43-.59-.52 0-1.04.2-1.43.59L10.3 9.45l-7.72 7.72c-.78.78-.78 2.05 0 2.83L4 21.41c.39.39.9.59 1.41.59.51 0 1.02-.2 1.41-.59l7.78-7.78 2.81-2.81c.8-.78.8-2.07 0-2.86zM5.41 20L4 18.59l7.72-7.72 1.47 1.35L5.41 20z\"/>\n",
              "  </svg>\n",
              "      </button>\n",
              "      \n",
              "  <style>\n",
              "    .colab-df-container {\n",
              "      display:flex;\n",
              "      flex-wrap:wrap;\n",
              "      gap: 12px;\n",
              "    }\n",
              "\n",
              "    .colab-df-convert {\n",
              "      background-color: #E8F0FE;\n",
              "      border: none;\n",
              "      border-radius: 50%;\n",
              "      cursor: pointer;\n",
              "      display: none;\n",
              "      fill: #1967D2;\n",
              "      height: 32px;\n",
              "      padding: 0 0 0 0;\n",
              "      width: 32px;\n",
              "    }\n",
              "\n",
              "    .colab-df-convert:hover {\n",
              "      background-color: #E2EBFA;\n",
              "      box-shadow: 0px 1px 2px rgba(60, 64, 67, 0.3), 0px 1px 3px 1px rgba(60, 64, 67, 0.15);\n",
              "      fill: #174EA6;\n",
              "    }\n",
              "\n",
              "    [theme=dark] .colab-df-convert {\n",
              "      background-color: #3B4455;\n",
              "      fill: #D2E3FC;\n",
              "    }\n",
              "\n",
              "    [theme=dark] .colab-df-convert:hover {\n",
              "      background-color: #434B5C;\n",
              "      box-shadow: 0px 1px 3px 1px rgba(0, 0, 0, 0.15);\n",
              "      filter: drop-shadow(0px 1px 2px rgba(0, 0, 0, 0.3));\n",
              "      fill: #FFFFFF;\n",
              "    }\n",
              "  </style>\n",
              "\n",
              "      <script>\n",
              "        const buttonEl =\n",
              "          document.querySelector('#df-7339c9de-bc11-4de5-855a-758f4bfd0c5d button.colab-df-convert');\n",
              "        buttonEl.style.display =\n",
              "          google.colab.kernel.accessAllowed ? 'block' : 'none';\n",
              "\n",
              "        async function convertToInteractive(key) {\n",
              "          const element = document.querySelector('#df-7339c9de-bc11-4de5-855a-758f4bfd0c5d');\n",
              "          const dataTable =\n",
              "            await google.colab.kernel.invokeFunction('convertToInteractive',\n",
              "                                                     [key], {});\n",
              "          if (!dataTable) return;\n",
              "\n",
              "          const docLinkHtml = 'Like what you see? Visit the ' +\n",
              "            '<a target=\"_blank\" href=https://colab.research.google.com/notebooks/data_table.ipynb>data table notebook</a>'\n",
              "            + ' to learn more about interactive tables.';\n",
              "          element.innerHTML = '';\n",
              "          dataTable['output_type'] = 'display_data';\n",
              "          await google.colab.output.renderOutput(dataTable, element);\n",
              "          const docLink = document.createElement('div');\n",
              "          docLink.innerHTML = docLinkHtml;\n",
              "          element.appendChild(docLink);\n",
              "        }\n",
              "      </script>\n",
              "    </div>\n",
              "  </div>\n",
              "  "
            ]
          },
          "metadata": {},
          "execution_count": 5
        }
      ]
    },
    {
      "cell_type": "markdown",
      "source": [
        "# Предобработка"
      ],
      "metadata": {
        "id": "EK_q1w-SQcXQ"
      }
    },
    {
      "cell_type": "code",
      "source": [
        "# удалим колонки, где пропусков больше 50 %\n",
        "df_train_isna_percentage = round(df_train.isnull().sum()*100/len(df_train.index),1)\n",
        "df_train_isna_percentage = df_train_isna_percentage[df_train_isna_percentage.values > 50.0]\n",
        "df_train = df_train.drop(columns = df_train_isna_percentage.index)\n",
        "df_train.info()"
      ],
      "metadata": {
        "colab": {
          "base_uri": "https://localhost:8080/"
        },
        "id": "2XE--QBvMqvt",
        "outputId": "4a216cbf-da6d-4057-9102-4239ef78f79d"
      },
      "execution_count": 6,
      "outputs": [
        {
          "output_type": "stream",
          "name": "stdout",
          "text": [
            "<class 'pandas.core.frame.DataFrame'>\n",
            "Int64Index: 100000 entries, 193220 to 203783\n",
            "Data columns (total 81 columns):\n",
            " #   Column                        Non-Null Count   Dtype  \n",
            "---  ------                        --------------   -----  \n",
            " 0   SK_ID_CURR                    100000 non-null  int64  \n",
            " 1   TARGET                        100000 non-null  int64  \n",
            " 2   NAME_CONTRACT_TYPE            100000 non-null  object \n",
            " 3   CODE_GENDER                   100000 non-null  object \n",
            " 4   FLAG_OWN_CAR                  100000 non-null  object \n",
            " 5   FLAG_OWN_REALTY               100000 non-null  object \n",
            " 6   CNT_CHILDREN                  100000 non-null  int64  \n",
            " 7   AMT_INCOME_TOTAL              100000 non-null  float64\n",
            " 8   AMT_CREDIT                    100000 non-null  float64\n",
            " 9   AMT_ANNUITY                   99994 non-null   float64\n",
            " 10  AMT_GOODS_PRICE               99922 non-null   float64\n",
            " 11  NAME_TYPE_SUITE               99574 non-null   object \n",
            " 12  NAME_INCOME_TYPE              100000 non-null  object \n",
            " 13  NAME_EDUCATION_TYPE           100000 non-null  object \n",
            " 14  NAME_FAMILY_STATUS            100000 non-null  object \n",
            " 15  NAME_HOUSING_TYPE             100000 non-null  object \n",
            " 16  REGION_POPULATION_RELATIVE    100000 non-null  float64\n",
            " 17  DAYS_BIRTH                    100000 non-null  int64  \n",
            " 18  DAYS_EMPLOYED                 100000 non-null  int64  \n",
            " 19  DAYS_REGISTRATION             100000 non-null  float64\n",
            " 20  DAYS_ID_PUBLISH               100000 non-null  int64  \n",
            " 21  FLAG_MOBIL                    100000 non-null  int64  \n",
            " 22  FLAG_EMP_PHONE                100000 non-null  int64  \n",
            " 23  FLAG_WORK_PHONE               100000 non-null  int64  \n",
            " 24  FLAG_CONT_MOBILE              100000 non-null  int64  \n",
            " 25  FLAG_PHONE                    100000 non-null  int64  \n",
            " 26  FLAG_EMAIL                    100000 non-null  int64  \n",
            " 27  OCCUPATION_TYPE               68724 non-null   object \n",
            " 28  CNT_FAM_MEMBERS               100000 non-null  float64\n",
            " 29  REGION_RATING_CLIENT          100000 non-null  int64  \n",
            " 30  REGION_RATING_CLIENT_W_CITY   100000 non-null  int64  \n",
            " 31  WEEKDAY_APPR_PROCESS_START    100000 non-null  object \n",
            " 32  HOUR_APPR_PROCESS_START       100000 non-null  int64  \n",
            " 33  REG_REGION_NOT_LIVE_REGION    100000 non-null  int64  \n",
            " 34  REG_REGION_NOT_WORK_REGION    100000 non-null  int64  \n",
            " 35  LIVE_REGION_NOT_WORK_REGION   100000 non-null  int64  \n",
            " 36  REG_CITY_NOT_LIVE_CITY        100000 non-null  int64  \n",
            " 37  REG_CITY_NOT_WORK_CITY        100000 non-null  int64  \n",
            " 38  LIVE_CITY_NOT_WORK_CITY       100000 non-null  int64  \n",
            " 39  ORGANIZATION_TYPE             100000 non-null  object \n",
            " 40  EXT_SOURCE_2                  99772 non-null   float64\n",
            " 41  EXT_SOURCE_3                  80271 non-null   float64\n",
            " 42  YEARS_BEGINEXPLUATATION_AVG   51338 non-null   float64\n",
            " 43  FLOORSMAX_AVG                 50335 non-null   float64\n",
            " 44  YEARS_BEGINEXPLUATATION_MODE  51338 non-null   float64\n",
            " 45  FLOORSMAX_MODE                50335 non-null   float64\n",
            " 46  YEARS_BEGINEXPLUATATION_MEDI  51338 non-null   float64\n",
            " 47  FLOORSMAX_MEDI                50335 non-null   float64\n",
            " 48  TOTALAREA_MODE                51834 non-null   float64\n",
            " 49  EMERGENCYSTATE_MODE           52708 non-null   object \n",
            " 50  OBS_30_CNT_SOCIAL_CIRCLE      99670 non-null   float64\n",
            " 51  DEF_30_CNT_SOCIAL_CIRCLE      99670 non-null   float64\n",
            " 52  OBS_60_CNT_SOCIAL_CIRCLE      99670 non-null   float64\n",
            " 53  DEF_60_CNT_SOCIAL_CIRCLE      99670 non-null   float64\n",
            " 54  DAYS_LAST_PHONE_CHANGE        99999 non-null   float64\n",
            " 55  FLAG_DOCUMENT_2               100000 non-null  int64  \n",
            " 56  FLAG_DOCUMENT_3               100000 non-null  int64  \n",
            " 57  FLAG_DOCUMENT_4               100000 non-null  int64  \n",
            " 58  FLAG_DOCUMENT_5               100000 non-null  int64  \n",
            " 59  FLAG_DOCUMENT_6               100000 non-null  int64  \n",
            " 60  FLAG_DOCUMENT_7               100000 non-null  int64  \n",
            " 61  FLAG_DOCUMENT_8               100000 non-null  int64  \n",
            " 62  FLAG_DOCUMENT_9               100000 non-null  int64  \n",
            " 63  FLAG_DOCUMENT_10              100000 non-null  int64  \n",
            " 64  FLAG_DOCUMENT_11              100000 non-null  int64  \n",
            " 65  FLAG_DOCUMENT_12              100000 non-null  int64  \n",
            " 66  FLAG_DOCUMENT_13              100000 non-null  int64  \n",
            " 67  FLAG_DOCUMENT_14              100000 non-null  int64  \n",
            " 68  FLAG_DOCUMENT_15              100000 non-null  int64  \n",
            " 69  FLAG_DOCUMENT_16              100000 non-null  int64  \n",
            " 70  FLAG_DOCUMENT_17              100000 non-null  int64  \n",
            " 71  FLAG_DOCUMENT_18              100000 non-null  int64  \n",
            " 72  FLAG_DOCUMENT_19              100000 non-null  int64  \n",
            " 73  FLAG_DOCUMENT_20              100000 non-null  int64  \n",
            " 74  FLAG_DOCUMENT_21              100000 non-null  int64  \n",
            " 75  AMT_REQ_CREDIT_BUREAU_HOUR    86548 non-null   float64\n",
            " 76  AMT_REQ_CREDIT_BUREAU_DAY     86548 non-null   float64\n",
            " 77  AMT_REQ_CREDIT_BUREAU_WEEK    86548 non-null   float64\n",
            " 78  AMT_REQ_CREDIT_BUREAU_MON     86548 non-null   float64\n",
            " 79  AMT_REQ_CREDIT_BUREAU_QRT     86548 non-null   float64\n",
            " 80  AMT_REQ_CREDIT_BUREAU_YEAR    86548 non-null   float64\n",
            "dtypes: float64(27), int64(41), object(13)\n",
            "memory usage: 62.6+ MB\n"
          ]
        }
      ]
    },
    {
      "cell_type": "code",
      "source": [
        "# Заполним пропуски медианными значениями\n",
        "median_columns = list(df_train.isna().sum().index)\n",
        "df_train[median_columns] = df_train[median_columns].fillna(df_train[median_columns].median())\n",
        "df_train.info()"
      ],
      "metadata": {
        "colab": {
          "base_uri": "https://localhost:8080/"
        },
        "id": "_GcCknQWMtNh",
        "outputId": "e7a36875-ccb4-4fe1-cb52-fb30d08c3a57"
      },
      "execution_count": 7,
      "outputs": [
        {
          "output_type": "stream",
          "name": "stdout",
          "text": [
            "<class 'pandas.core.frame.DataFrame'>\n",
            "Int64Index: 100000 entries, 193220 to 203783\n",
            "Data columns (total 81 columns):\n",
            " #   Column                        Non-Null Count   Dtype  \n",
            "---  ------                        --------------   -----  \n",
            " 0   SK_ID_CURR                    100000 non-null  int64  \n",
            " 1   TARGET                        100000 non-null  int64  \n",
            " 2   NAME_CONTRACT_TYPE            100000 non-null  object \n",
            " 3   CODE_GENDER                   100000 non-null  object \n",
            " 4   FLAG_OWN_CAR                  100000 non-null  object \n",
            " 5   FLAG_OWN_REALTY               100000 non-null  object \n",
            " 6   CNT_CHILDREN                  100000 non-null  int64  \n",
            " 7   AMT_INCOME_TOTAL              100000 non-null  float64\n",
            " 8   AMT_CREDIT                    100000 non-null  float64\n",
            " 9   AMT_ANNUITY                   100000 non-null  float64\n",
            " 10  AMT_GOODS_PRICE               100000 non-null  float64\n",
            " 11  NAME_TYPE_SUITE               99574 non-null   object \n",
            " 12  NAME_INCOME_TYPE              100000 non-null  object \n",
            " 13  NAME_EDUCATION_TYPE           100000 non-null  object \n",
            " 14  NAME_FAMILY_STATUS            100000 non-null  object \n",
            " 15  NAME_HOUSING_TYPE             100000 non-null  object \n",
            " 16  REGION_POPULATION_RELATIVE    100000 non-null  float64\n",
            " 17  DAYS_BIRTH                    100000 non-null  int64  \n",
            " 18  DAYS_EMPLOYED                 100000 non-null  int64  \n",
            " 19  DAYS_REGISTRATION             100000 non-null  float64\n",
            " 20  DAYS_ID_PUBLISH               100000 non-null  int64  \n",
            " 21  FLAG_MOBIL                    100000 non-null  int64  \n",
            " 22  FLAG_EMP_PHONE                100000 non-null  int64  \n",
            " 23  FLAG_WORK_PHONE               100000 non-null  int64  \n",
            " 24  FLAG_CONT_MOBILE              100000 non-null  int64  \n",
            " 25  FLAG_PHONE                    100000 non-null  int64  \n",
            " 26  FLAG_EMAIL                    100000 non-null  int64  \n",
            " 27  OCCUPATION_TYPE               68724 non-null   object \n",
            " 28  CNT_FAM_MEMBERS               100000 non-null  float64\n",
            " 29  REGION_RATING_CLIENT          100000 non-null  int64  \n",
            " 30  REGION_RATING_CLIENT_W_CITY   100000 non-null  int64  \n",
            " 31  WEEKDAY_APPR_PROCESS_START    100000 non-null  object \n",
            " 32  HOUR_APPR_PROCESS_START       100000 non-null  int64  \n",
            " 33  REG_REGION_NOT_LIVE_REGION    100000 non-null  int64  \n",
            " 34  REG_REGION_NOT_WORK_REGION    100000 non-null  int64  \n",
            " 35  LIVE_REGION_NOT_WORK_REGION   100000 non-null  int64  \n",
            " 36  REG_CITY_NOT_LIVE_CITY        100000 non-null  int64  \n",
            " 37  REG_CITY_NOT_WORK_CITY        100000 non-null  int64  \n",
            " 38  LIVE_CITY_NOT_WORK_CITY       100000 non-null  int64  \n",
            " 39  ORGANIZATION_TYPE             100000 non-null  object \n",
            " 40  EXT_SOURCE_2                  100000 non-null  float64\n",
            " 41  EXT_SOURCE_3                  100000 non-null  float64\n",
            " 42  YEARS_BEGINEXPLUATATION_AVG   100000 non-null  float64\n",
            " 43  FLOORSMAX_AVG                 100000 non-null  float64\n",
            " 44  YEARS_BEGINEXPLUATATION_MODE  100000 non-null  float64\n",
            " 45  FLOORSMAX_MODE                100000 non-null  float64\n",
            " 46  YEARS_BEGINEXPLUATATION_MEDI  100000 non-null  float64\n",
            " 47  FLOORSMAX_MEDI                100000 non-null  float64\n",
            " 48  TOTALAREA_MODE                100000 non-null  float64\n",
            " 49  EMERGENCYSTATE_MODE           52708 non-null   object \n",
            " 50  OBS_30_CNT_SOCIAL_CIRCLE      100000 non-null  float64\n",
            " 51  DEF_30_CNT_SOCIAL_CIRCLE      100000 non-null  float64\n",
            " 52  OBS_60_CNT_SOCIAL_CIRCLE      100000 non-null  float64\n",
            " 53  DEF_60_CNT_SOCIAL_CIRCLE      100000 non-null  float64\n",
            " 54  DAYS_LAST_PHONE_CHANGE        100000 non-null  float64\n",
            " 55  FLAG_DOCUMENT_2               100000 non-null  int64  \n",
            " 56  FLAG_DOCUMENT_3               100000 non-null  int64  \n",
            " 57  FLAG_DOCUMENT_4               100000 non-null  int64  \n",
            " 58  FLAG_DOCUMENT_5               100000 non-null  int64  \n",
            " 59  FLAG_DOCUMENT_6               100000 non-null  int64  \n",
            " 60  FLAG_DOCUMENT_7               100000 non-null  int64  \n",
            " 61  FLAG_DOCUMENT_8               100000 non-null  int64  \n",
            " 62  FLAG_DOCUMENT_9               100000 non-null  int64  \n",
            " 63  FLAG_DOCUMENT_10              100000 non-null  int64  \n",
            " 64  FLAG_DOCUMENT_11              100000 non-null  int64  \n",
            " 65  FLAG_DOCUMENT_12              100000 non-null  int64  \n",
            " 66  FLAG_DOCUMENT_13              100000 non-null  int64  \n",
            " 67  FLAG_DOCUMENT_14              100000 non-null  int64  \n",
            " 68  FLAG_DOCUMENT_15              100000 non-null  int64  \n",
            " 69  FLAG_DOCUMENT_16              100000 non-null  int64  \n",
            " 70  FLAG_DOCUMENT_17              100000 non-null  int64  \n",
            " 71  FLAG_DOCUMENT_18              100000 non-null  int64  \n",
            " 72  FLAG_DOCUMENT_19              100000 non-null  int64  \n",
            " 73  FLAG_DOCUMENT_20              100000 non-null  int64  \n",
            " 74  FLAG_DOCUMENT_21              100000 non-null  int64  \n",
            " 75  AMT_REQ_CREDIT_BUREAU_HOUR    100000 non-null  float64\n",
            " 76  AMT_REQ_CREDIT_BUREAU_DAY     100000 non-null  float64\n",
            " 77  AMT_REQ_CREDIT_BUREAU_WEEK    100000 non-null  float64\n",
            " 78  AMT_REQ_CREDIT_BUREAU_MON     100000 non-null  float64\n",
            " 79  AMT_REQ_CREDIT_BUREAU_QRT     100000 non-null  float64\n",
            " 80  AMT_REQ_CREDIT_BUREAU_YEAR    100000 non-null  float64\n",
            "dtypes: float64(27), int64(41), object(13)\n",
            "memory usage: 62.6+ MB\n"
          ]
        },
        {
          "output_type": "stream",
          "name": "stderr",
          "text": [
            "<ipython-input-7-ba3f60a38c69>:3: FutureWarning: Dropping of nuisance columns in DataFrame reductions (with 'numeric_only=None') is deprecated; in a future version this will raise TypeError.  Select only valid columns before calling the reduction.\n",
            "  df_train[median_columns] = df_train[median_columns].fillna(df_train[median_columns].median())\n"
          ]
        }
      ]
    },
    {
      "cell_type": "code",
      "source": [
        "# заменим пустые значение в категориальных признаках на моду\n",
        "\n",
        "object_columns = list(df_train.select_dtypes(include=['object']).columns)\n",
        "\n",
        "df_object_columns = df_train.loc[:,object_columns]\n",
        "d = df_object_columns.isna().sum() \n",
        "list(d[d.values != 0].index)"
      ],
      "metadata": {
        "colab": {
          "base_uri": "https://localhost:8080/"
        },
        "id": "WM-E7eZAMwAD",
        "outputId": "521b03de-4c16-45c4-ab9d-ac2c5ae6bbdf"
      },
      "execution_count": 8,
      "outputs": [
        {
          "output_type": "execute_result",
          "data": {
            "text/plain": [
              "['NAME_TYPE_SUITE', 'OCCUPATION_TYPE', 'EMERGENCYSTATE_MODE']"
            ]
          },
          "metadata": {},
          "execution_count": 8
        }
      ]
    },
    {
      "cell_type": "code",
      "source": [
        "df_train['NAME_TYPE_SUITE'] = df_train['NAME_TYPE_SUITE'].fillna(df_train['NAME_TYPE_SUITE'].mode()[0])\n",
        "df_train['OCCUPATION_TYPE'] = df_train['OCCUPATION_TYPE'].fillna(df_train['OCCUPATION_TYPE'].mode()[0])\n",
        "df_train['EMERGENCYSTATE_MODE'] = df_train['EMERGENCYSTATE_MODE'].fillna(df_train['EMERGENCYSTATE_MODE'].mode()[0])"
      ],
      "metadata": {
        "id": "amxcicQ_Myz_"
      },
      "execution_count": 9,
      "outputs": []
    },
    {
      "cell_type": "code",
      "source": [
        "df_train.info()"
      ],
      "metadata": {
        "colab": {
          "base_uri": "https://localhost:8080/"
        },
        "id": "FFfZjDCCM2Ye",
        "outputId": "90399d10-59c3-4ec5-9fcd-1c0a49d6b871"
      },
      "execution_count": 10,
      "outputs": [
        {
          "output_type": "stream",
          "name": "stdout",
          "text": [
            "<class 'pandas.core.frame.DataFrame'>\n",
            "Int64Index: 100000 entries, 193220 to 203783\n",
            "Data columns (total 81 columns):\n",
            " #   Column                        Non-Null Count   Dtype  \n",
            "---  ------                        --------------   -----  \n",
            " 0   SK_ID_CURR                    100000 non-null  int64  \n",
            " 1   TARGET                        100000 non-null  int64  \n",
            " 2   NAME_CONTRACT_TYPE            100000 non-null  object \n",
            " 3   CODE_GENDER                   100000 non-null  object \n",
            " 4   FLAG_OWN_CAR                  100000 non-null  object \n",
            " 5   FLAG_OWN_REALTY               100000 non-null  object \n",
            " 6   CNT_CHILDREN                  100000 non-null  int64  \n",
            " 7   AMT_INCOME_TOTAL              100000 non-null  float64\n",
            " 8   AMT_CREDIT                    100000 non-null  float64\n",
            " 9   AMT_ANNUITY                   100000 non-null  float64\n",
            " 10  AMT_GOODS_PRICE               100000 non-null  float64\n",
            " 11  NAME_TYPE_SUITE               100000 non-null  object \n",
            " 12  NAME_INCOME_TYPE              100000 non-null  object \n",
            " 13  NAME_EDUCATION_TYPE           100000 non-null  object \n",
            " 14  NAME_FAMILY_STATUS            100000 non-null  object \n",
            " 15  NAME_HOUSING_TYPE             100000 non-null  object \n",
            " 16  REGION_POPULATION_RELATIVE    100000 non-null  float64\n",
            " 17  DAYS_BIRTH                    100000 non-null  int64  \n",
            " 18  DAYS_EMPLOYED                 100000 non-null  int64  \n",
            " 19  DAYS_REGISTRATION             100000 non-null  float64\n",
            " 20  DAYS_ID_PUBLISH               100000 non-null  int64  \n",
            " 21  FLAG_MOBIL                    100000 non-null  int64  \n",
            " 22  FLAG_EMP_PHONE                100000 non-null  int64  \n",
            " 23  FLAG_WORK_PHONE               100000 non-null  int64  \n",
            " 24  FLAG_CONT_MOBILE              100000 non-null  int64  \n",
            " 25  FLAG_PHONE                    100000 non-null  int64  \n",
            " 26  FLAG_EMAIL                    100000 non-null  int64  \n",
            " 27  OCCUPATION_TYPE               100000 non-null  object \n",
            " 28  CNT_FAM_MEMBERS               100000 non-null  float64\n",
            " 29  REGION_RATING_CLIENT          100000 non-null  int64  \n",
            " 30  REGION_RATING_CLIENT_W_CITY   100000 non-null  int64  \n",
            " 31  WEEKDAY_APPR_PROCESS_START    100000 non-null  object \n",
            " 32  HOUR_APPR_PROCESS_START       100000 non-null  int64  \n",
            " 33  REG_REGION_NOT_LIVE_REGION    100000 non-null  int64  \n",
            " 34  REG_REGION_NOT_WORK_REGION    100000 non-null  int64  \n",
            " 35  LIVE_REGION_NOT_WORK_REGION   100000 non-null  int64  \n",
            " 36  REG_CITY_NOT_LIVE_CITY        100000 non-null  int64  \n",
            " 37  REG_CITY_NOT_WORK_CITY        100000 non-null  int64  \n",
            " 38  LIVE_CITY_NOT_WORK_CITY       100000 non-null  int64  \n",
            " 39  ORGANIZATION_TYPE             100000 non-null  object \n",
            " 40  EXT_SOURCE_2                  100000 non-null  float64\n",
            " 41  EXT_SOURCE_3                  100000 non-null  float64\n",
            " 42  YEARS_BEGINEXPLUATATION_AVG   100000 non-null  float64\n",
            " 43  FLOORSMAX_AVG                 100000 non-null  float64\n",
            " 44  YEARS_BEGINEXPLUATATION_MODE  100000 non-null  float64\n",
            " 45  FLOORSMAX_MODE                100000 non-null  float64\n",
            " 46  YEARS_BEGINEXPLUATATION_MEDI  100000 non-null  float64\n",
            " 47  FLOORSMAX_MEDI                100000 non-null  float64\n",
            " 48  TOTALAREA_MODE                100000 non-null  float64\n",
            " 49  EMERGENCYSTATE_MODE           100000 non-null  object \n",
            " 50  OBS_30_CNT_SOCIAL_CIRCLE      100000 non-null  float64\n",
            " 51  DEF_30_CNT_SOCIAL_CIRCLE      100000 non-null  float64\n",
            " 52  OBS_60_CNT_SOCIAL_CIRCLE      100000 non-null  float64\n",
            " 53  DEF_60_CNT_SOCIAL_CIRCLE      100000 non-null  float64\n",
            " 54  DAYS_LAST_PHONE_CHANGE        100000 non-null  float64\n",
            " 55  FLAG_DOCUMENT_2               100000 non-null  int64  \n",
            " 56  FLAG_DOCUMENT_3               100000 non-null  int64  \n",
            " 57  FLAG_DOCUMENT_4               100000 non-null  int64  \n",
            " 58  FLAG_DOCUMENT_5               100000 non-null  int64  \n",
            " 59  FLAG_DOCUMENT_6               100000 non-null  int64  \n",
            " 60  FLAG_DOCUMENT_7               100000 non-null  int64  \n",
            " 61  FLAG_DOCUMENT_8               100000 non-null  int64  \n",
            " 62  FLAG_DOCUMENT_9               100000 non-null  int64  \n",
            " 63  FLAG_DOCUMENT_10              100000 non-null  int64  \n",
            " 64  FLAG_DOCUMENT_11              100000 non-null  int64  \n",
            " 65  FLAG_DOCUMENT_12              100000 non-null  int64  \n",
            " 66  FLAG_DOCUMENT_13              100000 non-null  int64  \n",
            " 67  FLAG_DOCUMENT_14              100000 non-null  int64  \n",
            " 68  FLAG_DOCUMENT_15              100000 non-null  int64  \n",
            " 69  FLAG_DOCUMENT_16              100000 non-null  int64  \n",
            " 70  FLAG_DOCUMENT_17              100000 non-null  int64  \n",
            " 71  FLAG_DOCUMENT_18              100000 non-null  int64  \n",
            " 72  FLAG_DOCUMENT_19              100000 non-null  int64  \n",
            " 73  FLAG_DOCUMENT_20              100000 non-null  int64  \n",
            " 74  FLAG_DOCUMENT_21              100000 non-null  int64  \n",
            " 75  AMT_REQ_CREDIT_BUREAU_HOUR    100000 non-null  float64\n",
            " 76  AMT_REQ_CREDIT_BUREAU_DAY     100000 non-null  float64\n",
            " 77  AMT_REQ_CREDIT_BUREAU_WEEK    100000 non-null  float64\n",
            " 78  AMT_REQ_CREDIT_BUREAU_MON     100000 non-null  float64\n",
            " 79  AMT_REQ_CREDIT_BUREAU_QRT     100000 non-null  float64\n",
            " 80  AMT_REQ_CREDIT_BUREAU_YEAR    100000 non-null  float64\n",
            "dtypes: float64(27), int64(41), object(13)\n",
            "memory usage: 62.6+ MB\n"
          ]
        }
      ]
    },
    {
      "cell_type": "code",
      "source": [
        "# Кодирование категориальных признаков типа OneHotEncoder\n",
        "\n",
        "df_train = pd.get_dummies(df_train, drop_first=True)\n",
        "df_train.head()"
      ],
      "metadata": {
        "colab": {
          "base_uri": "https://localhost:8080/",
          "height": 317
        },
        "id": "wcEY6biqM43F",
        "outputId": "457217a5-79b3-4c38-8ea3-a6c9e79ab8b7"
      },
      "execution_count": 11,
      "outputs": [
        {
          "output_type": "execute_result",
          "data": {
            "text/plain": [
              "        SK_ID_CURR  TARGET  CNT_CHILDREN  AMT_INCOME_TOTAL  AMT_CREDIT  \\\n",
              "193220      324065       1             1          135000.0    263686.5   \n",
              "32111       137235       0             0          270000.0    746280.0   \n",
              "25104       129201       0             0          279000.0    536917.5   \n",
              "186096      315742       0             3          112500.0    180000.0   \n",
              "211059      344590       0             0          144000.0   1506816.0   \n",
              "\n",
              "        AMT_ANNUITY  AMT_GOODS_PRICE  REGION_POPULATION_RELATIVE  DAYS_BIRTH  \\\n",
              "193220      26208.0         238500.0                    0.018029       -9539   \n",
              "32111       59094.0         675000.0                    0.007020      -11607   \n",
              "25104       30109.5         463500.0                    0.072508      -10972   \n",
              "186096       9000.0         180000.0                    0.035792      -13741   \n",
              "211059      47313.0        1350000.0                    0.007120      -21035   \n",
              "\n",
              "        DAYS_EMPLOYED  ...  ORGANIZATION_TYPE_Trade: type 5  \\\n",
              "193220           -639  ...                                0   \n",
              "32111           -1482  ...                                0   \n",
              "25104            -704  ...                                0   \n",
              "186096          -1172  ...                                0   \n",
              "211059         365243  ...                                0   \n",
              "\n",
              "        ORGANIZATION_TYPE_Trade: type 6  ORGANIZATION_TYPE_Trade: type 7  \\\n",
              "193220                                0                                0   \n",
              "32111                                 0                                0   \n",
              "25104                                 0                                0   \n",
              "186096                                0                                0   \n",
              "211059                                0                                0   \n",
              "\n",
              "        ORGANIZATION_TYPE_Transport: type 1  \\\n",
              "193220                                    0   \n",
              "32111                                     0   \n",
              "25104                                     0   \n",
              "186096                                    0   \n",
              "211059                                    0   \n",
              "\n",
              "        ORGANIZATION_TYPE_Transport: type 2  \\\n",
              "193220                                    0   \n",
              "32111                                     0   \n",
              "25104                                     0   \n",
              "186096                                    0   \n",
              "211059                                    0   \n",
              "\n",
              "        ORGANIZATION_TYPE_Transport: type 3  \\\n",
              "193220                                    0   \n",
              "32111                                     0   \n",
              "25104                                     0   \n",
              "186096                                    0   \n",
              "211059                                    0   \n",
              "\n",
              "        ORGANIZATION_TYPE_Transport: type 4  ORGANIZATION_TYPE_University  \\\n",
              "193220                                    0                             0   \n",
              "32111                                     0                             0   \n",
              "25104                                     0                             0   \n",
              "186096                                    0                             0   \n",
              "211059                                    0                             0   \n",
              "\n",
              "        ORGANIZATION_TYPE_XNA  EMERGENCYSTATE_MODE_Yes  \n",
              "193220                      0                        0  \n",
              "32111                       0                        0  \n",
              "25104                       0                        0  \n",
              "186096                      0                        0  \n",
              "211059                      1                        0  \n",
              "\n",
              "[5 rows x 179 columns]"
            ],
            "text/html": [
              "\n",
              "  <div id=\"df-0b65fd9c-34d7-40f5-ba76-3d5212ccfac2\">\n",
              "    <div class=\"colab-df-container\">\n",
              "      <div>\n",
              "<style scoped>\n",
              "    .dataframe tbody tr th:only-of-type {\n",
              "        vertical-align: middle;\n",
              "    }\n",
              "\n",
              "    .dataframe tbody tr th {\n",
              "        vertical-align: top;\n",
              "    }\n",
              "\n",
              "    .dataframe thead th {\n",
              "        text-align: right;\n",
              "    }\n",
              "</style>\n",
              "<table border=\"1\" class=\"dataframe\">\n",
              "  <thead>\n",
              "    <tr style=\"text-align: right;\">\n",
              "      <th></th>\n",
              "      <th>SK_ID_CURR</th>\n",
              "      <th>TARGET</th>\n",
              "      <th>CNT_CHILDREN</th>\n",
              "      <th>AMT_INCOME_TOTAL</th>\n",
              "      <th>AMT_CREDIT</th>\n",
              "      <th>AMT_ANNUITY</th>\n",
              "      <th>AMT_GOODS_PRICE</th>\n",
              "      <th>REGION_POPULATION_RELATIVE</th>\n",
              "      <th>DAYS_BIRTH</th>\n",
              "      <th>DAYS_EMPLOYED</th>\n",
              "      <th>...</th>\n",
              "      <th>ORGANIZATION_TYPE_Trade: type 5</th>\n",
              "      <th>ORGANIZATION_TYPE_Trade: type 6</th>\n",
              "      <th>ORGANIZATION_TYPE_Trade: type 7</th>\n",
              "      <th>ORGANIZATION_TYPE_Transport: type 1</th>\n",
              "      <th>ORGANIZATION_TYPE_Transport: type 2</th>\n",
              "      <th>ORGANIZATION_TYPE_Transport: type 3</th>\n",
              "      <th>ORGANIZATION_TYPE_Transport: type 4</th>\n",
              "      <th>ORGANIZATION_TYPE_University</th>\n",
              "      <th>ORGANIZATION_TYPE_XNA</th>\n",
              "      <th>EMERGENCYSTATE_MODE_Yes</th>\n",
              "    </tr>\n",
              "  </thead>\n",
              "  <tbody>\n",
              "    <tr>\n",
              "      <th>193220</th>\n",
              "      <td>324065</td>\n",
              "      <td>1</td>\n",
              "      <td>1</td>\n",
              "      <td>135000.0</td>\n",
              "      <td>263686.5</td>\n",
              "      <td>26208.0</td>\n",
              "      <td>238500.0</td>\n",
              "      <td>0.018029</td>\n",
              "      <td>-9539</td>\n",
              "      <td>-639</td>\n",
              "      <td>...</td>\n",
              "      <td>0</td>\n",
              "      <td>0</td>\n",
              "      <td>0</td>\n",
              "      <td>0</td>\n",
              "      <td>0</td>\n",
              "      <td>0</td>\n",
              "      <td>0</td>\n",
              "      <td>0</td>\n",
              "      <td>0</td>\n",
              "      <td>0</td>\n",
              "    </tr>\n",
              "    <tr>\n",
              "      <th>32111</th>\n",
              "      <td>137235</td>\n",
              "      <td>0</td>\n",
              "      <td>0</td>\n",
              "      <td>270000.0</td>\n",
              "      <td>746280.0</td>\n",
              "      <td>59094.0</td>\n",
              "      <td>675000.0</td>\n",
              "      <td>0.007020</td>\n",
              "      <td>-11607</td>\n",
              "      <td>-1482</td>\n",
              "      <td>...</td>\n",
              "      <td>0</td>\n",
              "      <td>0</td>\n",
              "      <td>0</td>\n",
              "      <td>0</td>\n",
              "      <td>0</td>\n",
              "      <td>0</td>\n",
              "      <td>0</td>\n",
              "      <td>0</td>\n",
              "      <td>0</td>\n",
              "      <td>0</td>\n",
              "    </tr>\n",
              "    <tr>\n",
              "      <th>25104</th>\n",
              "      <td>129201</td>\n",
              "      <td>0</td>\n",
              "      <td>0</td>\n",
              "      <td>279000.0</td>\n",
              "      <td>536917.5</td>\n",
              "      <td>30109.5</td>\n",
              "      <td>463500.0</td>\n",
              "      <td>0.072508</td>\n",
              "      <td>-10972</td>\n",
              "      <td>-704</td>\n",
              "      <td>...</td>\n",
              "      <td>0</td>\n",
              "      <td>0</td>\n",
              "      <td>0</td>\n",
              "      <td>0</td>\n",
              "      <td>0</td>\n",
              "      <td>0</td>\n",
              "      <td>0</td>\n",
              "      <td>0</td>\n",
              "      <td>0</td>\n",
              "      <td>0</td>\n",
              "    </tr>\n",
              "    <tr>\n",
              "      <th>186096</th>\n",
              "      <td>315742</td>\n",
              "      <td>0</td>\n",
              "      <td>3</td>\n",
              "      <td>112500.0</td>\n",
              "      <td>180000.0</td>\n",
              "      <td>9000.0</td>\n",
              "      <td>180000.0</td>\n",
              "      <td>0.035792</td>\n",
              "      <td>-13741</td>\n",
              "      <td>-1172</td>\n",
              "      <td>...</td>\n",
              "      <td>0</td>\n",
              "      <td>0</td>\n",
              "      <td>0</td>\n",
              "      <td>0</td>\n",
              "      <td>0</td>\n",
              "      <td>0</td>\n",
              "      <td>0</td>\n",
              "      <td>0</td>\n",
              "      <td>0</td>\n",
              "      <td>0</td>\n",
              "    </tr>\n",
              "    <tr>\n",
              "      <th>211059</th>\n",
              "      <td>344590</td>\n",
              "      <td>0</td>\n",
              "      <td>0</td>\n",
              "      <td>144000.0</td>\n",
              "      <td>1506816.0</td>\n",
              "      <td>47313.0</td>\n",
              "      <td>1350000.0</td>\n",
              "      <td>0.007120</td>\n",
              "      <td>-21035</td>\n",
              "      <td>365243</td>\n",
              "      <td>...</td>\n",
              "      <td>0</td>\n",
              "      <td>0</td>\n",
              "      <td>0</td>\n",
              "      <td>0</td>\n",
              "      <td>0</td>\n",
              "      <td>0</td>\n",
              "      <td>0</td>\n",
              "      <td>0</td>\n",
              "      <td>1</td>\n",
              "      <td>0</td>\n",
              "    </tr>\n",
              "  </tbody>\n",
              "</table>\n",
              "<p>5 rows × 179 columns</p>\n",
              "</div>\n",
              "      <button class=\"colab-df-convert\" onclick=\"convertToInteractive('df-0b65fd9c-34d7-40f5-ba76-3d5212ccfac2')\"\n",
              "              title=\"Convert this dataframe to an interactive table.\"\n",
              "              style=\"display:none;\">\n",
              "        \n",
              "  <svg xmlns=\"http://www.w3.org/2000/svg\" height=\"24px\"viewBox=\"0 0 24 24\"\n",
              "       width=\"24px\">\n",
              "    <path d=\"M0 0h24v24H0V0z\" fill=\"none\"/>\n",
              "    <path d=\"M18.56 5.44l.94 2.06.94-2.06 2.06-.94-2.06-.94-.94-2.06-.94 2.06-2.06.94zm-11 1L8.5 8.5l.94-2.06 2.06-.94-2.06-.94L8.5 2.5l-.94 2.06-2.06.94zm10 10l.94 2.06.94-2.06 2.06-.94-2.06-.94-.94-2.06-.94 2.06-2.06.94z\"/><path d=\"M17.41 7.96l-1.37-1.37c-.4-.4-.92-.59-1.43-.59-.52 0-1.04.2-1.43.59L10.3 9.45l-7.72 7.72c-.78.78-.78 2.05 0 2.83L4 21.41c.39.39.9.59 1.41.59.51 0 1.02-.2 1.41-.59l7.78-7.78 2.81-2.81c.8-.78.8-2.07 0-2.86zM5.41 20L4 18.59l7.72-7.72 1.47 1.35L5.41 20z\"/>\n",
              "  </svg>\n",
              "      </button>\n",
              "      \n",
              "  <style>\n",
              "    .colab-df-container {\n",
              "      display:flex;\n",
              "      flex-wrap:wrap;\n",
              "      gap: 12px;\n",
              "    }\n",
              "\n",
              "    .colab-df-convert {\n",
              "      background-color: #E8F0FE;\n",
              "      border: none;\n",
              "      border-radius: 50%;\n",
              "      cursor: pointer;\n",
              "      display: none;\n",
              "      fill: #1967D2;\n",
              "      height: 32px;\n",
              "      padding: 0 0 0 0;\n",
              "      width: 32px;\n",
              "    }\n",
              "\n",
              "    .colab-df-convert:hover {\n",
              "      background-color: #E2EBFA;\n",
              "      box-shadow: 0px 1px 2px rgba(60, 64, 67, 0.3), 0px 1px 3px 1px rgba(60, 64, 67, 0.15);\n",
              "      fill: #174EA6;\n",
              "    }\n",
              "\n",
              "    [theme=dark] .colab-df-convert {\n",
              "      background-color: #3B4455;\n",
              "      fill: #D2E3FC;\n",
              "    }\n",
              "\n",
              "    [theme=dark] .colab-df-convert:hover {\n",
              "      background-color: #434B5C;\n",
              "      box-shadow: 0px 1px 3px 1px rgba(0, 0, 0, 0.15);\n",
              "      filter: drop-shadow(0px 1px 2px rgba(0, 0, 0, 0.3));\n",
              "      fill: #FFFFFF;\n",
              "    }\n",
              "  </style>\n",
              "\n",
              "      <script>\n",
              "        const buttonEl =\n",
              "          document.querySelector('#df-0b65fd9c-34d7-40f5-ba76-3d5212ccfac2 button.colab-df-convert');\n",
              "        buttonEl.style.display =\n",
              "          google.colab.kernel.accessAllowed ? 'block' : 'none';\n",
              "\n",
              "        async function convertToInteractive(key) {\n",
              "          const element = document.querySelector('#df-0b65fd9c-34d7-40f5-ba76-3d5212ccfac2');\n",
              "          const dataTable =\n",
              "            await google.colab.kernel.invokeFunction('convertToInteractive',\n",
              "                                                     [key], {});\n",
              "          if (!dataTable) return;\n",
              "\n",
              "          const docLinkHtml = 'Like what you see? Visit the ' +\n",
              "            '<a target=\"_blank\" href=https://colab.research.google.com/notebooks/data_table.ipynb>data table notebook</a>'\n",
              "            + ' to learn more about interactive tables.';\n",
              "          element.innerHTML = '';\n",
              "          dataTable['output_type'] = 'display_data';\n",
              "          await google.colab.output.renderOutput(dataTable, element);\n",
              "          const docLink = document.createElement('div');\n",
              "          docLink.innerHTML = docLinkHtml;\n",
              "          element.appendChild(docLink);\n",
              "        }\n",
              "      </script>\n",
              "    </div>\n",
              "  </div>\n",
              "  "
            ]
          },
          "metadata": {},
          "execution_count": 11
        }
      ]
    },
    {
      "cell_type": "code",
      "source": [
        "# разбивка\n",
        "\n",
        "X = df_train.drop(columns = ['TARGET'])\n",
        "y = df_train['TARGET']\n",
        "\n",
        "X_train, X_valid, y_train, y_valid= train_test_split(X, y, test_size=0.20, random_state=111222, stratify=y)\n",
        "\n",
        "X_train.shape, X_valid.shape"
      ],
      "metadata": {
        "colab": {
          "base_uri": "https://localhost:8080/"
        },
        "id": "JAMQM0APM7dy",
        "outputId": "8b85bcdb-ae86-4c0e-af0c-d2181999d5d7"
      },
      "execution_count": 12,
      "outputs": [
        {
          "output_type": "execute_result",
          "data": {
            "text/plain": [
              "((80000, 178), (20000, 178))"
            ]
          },
          "metadata": {},
          "execution_count": 12
        }
      ]
    },
    {
      "cell_type": "code",
      "source": [
        "# удаление неважных\n",
        "\n",
        "importances = mutual_info_classif(X_train, y_train)\n",
        "feature_importances = pd.Series(importances, X_train.columns[0:len(X_train.columns)])\n",
        "\n",
        "important_feature = feature_importances[feature_importances.values > 0.01]\n",
        "drop_feature = feature_importances[feature_importances.values <= 0.01]"
      ],
      "metadata": {
        "id": "Otzumw_VM933"
      },
      "execution_count": 13,
      "outputs": []
    },
    {
      "cell_type": "code",
      "source": [
        "# посмотрим на важные\n",
        "\n",
        "plt.figure(figsize=(20,5))\n",
        "important_feature.sort_values().plot(kind='barh')\n",
        "plt.show()"
      ],
      "metadata": {
        "colab": {
          "base_uri": "https://localhost:8080/",
          "height": 255
        },
        "id": "eX3salu9NC41",
        "outputId": "eb2dd7f2-3bc4-45c2-943e-6d211ddfd66d"
      },
      "execution_count": 14,
      "outputs": [
        {
          "output_type": "display_data",
          "data": {
            "text/plain": [
              "<Figure size 1440x360 with 1 Axes>"
            ],
            "image/png": "[encoded data removed]"
          },
          "metadata": {
            "needs_background": "light"
          }
        }
      ]
    },
    {
      "cell_type": "code",
      "source": [
        "len(X_train.columns), len(drop_feature.index)"
      ],
      "metadata": {
        "colab": {
          "base_uri": "https://localhost:8080/"
        },
        "id": "zReVJJfWNFmv",
        "outputId": "c493b9f4-829e-43b8-a960-98b6a56a71cf"
      },
      "execution_count": 15,
      "outputs": [
        {
          "output_type": "execute_result",
          "data": {
            "text/plain": [
              "(178, 167)"
            ]
          },
          "metadata": {},
          "execution_count": 15
        }
      ]
    },
    {
      "cell_type": "code",
      "source": [
        "X_train = X_train.drop(columns = drop_feature.index)\n",
        "X_valid = X_valid.drop(columns = drop_feature.index)\n",
        "len(X_train.columns)"
      ],
      "metadata": {
        "colab": {
          "base_uri": "https://localhost:8080/"
        },
        "id": "rXH8lLQ5NpeD",
        "outputId": "d8202728-6d1e-4236-b498-06727d8e11a3"
      },
      "execution_count": 16,
      "outputs": [
        {
          "output_type": "execute_result",
          "data": {
            "text/plain": [
              "11"
            ]
          },
          "metadata": {},
          "execution_count": 16
        }
      ]
    },
    {
      "cell_type": "code",
      "source": [
        "# отмасштабируем\n",
        "\n",
        "numeric = list(X_train.columns)\n",
        "\n",
        "scaler = StandardScaler()\n",
        "scaler.fit(X_train[numeric])\n",
        "X_train[numeric] = scaler.transform(X_train[numeric])\n",
        "X_valid[numeric] = scaler.transform(X_valid[numeric])\n",
        "X_train.sample(10)"
      ],
      "metadata": {
        "colab": {
          "base_uri": "https://localhost:8080/",
          "height": 444
        },
        "id": "OniyIQQ9NrwQ",
        "outputId": "a5c5a6b5-9d96-470e-9cf4-90ab8af2861d"
      },
      "execution_count": 17,
      "outputs": [
        {
          "output_type": "execute_result",
          "data": {
            "text/plain": [
              "        AMT_ANNUITY  FLAG_MOBIL  FLAG_EMP_PHONE  FLAG_CONT_MOBILE  \\\n",
              "169257    -0.375340    0.003536        0.468105          0.046956   \n",
              "271734     0.921563    0.003536        0.468105          0.046956   \n",
              "48298     -0.187455    0.003536       -2.136275          0.046956   \n",
              "161508    -0.953567    0.003536        0.468105          0.046956   \n",
              "298009     0.247533    0.003536        0.468105          0.046956   \n",
              "30037      1.306325    0.003536        0.468105          0.046956   \n",
              "1892      -0.029024    0.003536        0.468105          0.046956   \n",
              "249007    -0.861485    0.003536       -2.136275          0.046956   \n",
              "154975    -0.170403    0.003536        0.468105          0.046956   \n",
              "287133     0.406275    0.003536        0.468105          0.046956   \n",
              "\n",
              "        REGION_RATING_CLIENT  REGION_RATING_CLIENT_W_CITY  EXT_SOURCE_2  \\\n",
              "169257             -0.102547                    -0.062065      0.452622   \n",
              "271734             -0.102547                    -0.062065      0.924457   \n",
              "48298               1.855391                     1.920050     -1.560043   \n",
              "161508             -0.102547                    -0.062065     -1.487598   \n",
              "298009             -0.102547                    -0.062065     -1.018776   \n",
              "30037              -0.102547                    -0.062065      0.236839   \n",
              "1892               -0.102547                    -0.062065     -1.052756   \n",
              "249007             -0.102547                    -0.062065     -0.369338   \n",
              "154975             -0.102547                    -0.062065      1.291709   \n",
              "287133              1.855391                     1.920050     -1.828534   \n",
              "\n",
              "        EXT_SOURCE_3  NAME_TYPE_SUITE_Unaccompanied  \\\n",
              "169257      0.639698                       0.482512   \n",
              "271734     -0.013867                       0.482512   \n",
              "48298       1.026930                       0.482512   \n",
              "161508      0.413693                       0.482512   \n",
              "298009     -2.194638                       0.482512   \n",
              "30037       0.119713                       0.482512   \n",
              "1892       -1.439918                       0.482512   \n",
              "249007      1.229571                       0.482512   \n",
              "154975      1.293734                       0.482512   \n",
              "287133     -1.350595                       0.482512   \n",
              "\n",
              "        NAME_EDUCATION_TYPE_Secondary / secondary special  \\\n",
              "169257                                          -1.568123   \n",
              "271734                                          -1.568123   \n",
              "48298                                            0.637705   \n",
              "161508                                           0.637705   \n",
              "298009                                           0.637705   \n",
              "30037                                            0.637705   \n",
              "1892                                             0.637705   \n",
              "249007                                           0.637705   \n",
              "154975                                           0.637705   \n",
              "287133                                           0.637705   \n",
              "\n",
              "        NAME_HOUSING_TYPE_House / apartment  \n",
              "169257                             0.354405  \n",
              "271734                             0.354405  \n",
              "48298                              0.354405  \n",
              "161508                             0.354405  \n",
              "298009                             0.354405  \n",
              "30037                              0.354405  \n",
              "1892                               0.354405  \n",
              "249007                             0.354405  \n",
              "154975                             0.354405  \n",
              "287133                            -2.821627  "
            ],
            "text/html": [
              "\n",
              "  <div id=\"df-0afef3cd-75ee-43ee-8b93-784022fa74a4\">\n",
              "    <div class=\"colab-df-container\">\n",
              "      <div>\n",
              "<style scoped>\n",
              "    .dataframe tbody tr th:only-of-type {\n",
              "        vertical-align: middle;\n",
              "    }\n",
              "\n",
              "    .dataframe tbody tr th {\n",
              "        vertical-align: top;\n",
              "    }\n",
              "\n",
              "    .dataframe thead th {\n",
              "        text-align: right;\n",
              "    }\n",
              "</style>\n",
              "<table border=\"1\" class=\"dataframe\">\n",
              "  <thead>\n",
              "    <tr style=\"text-align: right;\">\n",
              "      <th></th>\n",
              "      <th>AMT_ANNUITY</th>\n",
              "      <th>FLAG_MOBIL</th>\n",
              "      <th>FLAG_EMP_PHONE</th>\n",
              "      <th>FLAG_CONT_MOBILE</th>\n",
              "      <th>REGION_RATING_CLIENT</th>\n",
              "      <th>REGION_RATING_CLIENT_W_CITY</th>\n",
              "      <th>EXT_SOURCE_2</th>\n",
              "      <th>EXT_SOURCE_3</th>\n",
              "      <th>NAME_TYPE_SUITE_Unaccompanied</th>\n",
              "      <th>NAME_EDUCATION_TYPE_Secondary / secondary special</th>\n",
              "      <th>NAME_HOUSING_TYPE_House / apartment</th>\n",
              "    </tr>\n",
              "  </thead>\n",
              "  <tbody>\n",
              "    <tr>\n",
              "      <th>169257</th>\n",
              "      <td>-0.375340</td>\n",
              "      <td>0.003536</td>\n",
              "      <td>0.468105</td>\n",
              "      <td>0.046956</td>\n",
              "      <td>-0.102547</td>\n",
              "      <td>-0.062065</td>\n",
              "      <td>0.452622</td>\n",
              "      <td>0.639698</td>\n",
              "      <td>0.482512</td>\n",
              "      <td>-1.568123</td>\n",
              "      <td>0.354405</td>\n",
              "    </tr>\n",
              "    <tr>\n",
              "      <th>271734</th>\n",
              "      <td>0.921563</td>\n",
              "      <td>0.003536</td>\n",
              "      <td>0.468105</td>\n",
              "      <td>0.046956</td>\n",
              "      <td>-0.102547</td>\n",
              "      <td>-0.062065</td>\n",
              "      <td>0.924457</td>\n",
              "      <td>-0.013867</td>\n",
              "      <td>0.482512</td>\n",
              "      <td>-1.568123</td>\n",
              "      <td>0.354405</td>\n",
              "    </tr>\n",
              "    <tr>\n",
              "      <th>48298</th>\n",
              "      <td>-0.187455</td>\n",
              "      <td>0.003536</td>\n",
              "      <td>-2.136275</td>\n",
              "      <td>0.046956</td>\n",
              "      <td>1.855391</td>\n",
              "      <td>1.920050</td>\n",
              "      <td>-1.560043</td>\n",
              "      <td>1.026930</td>\n",
              "      <td>0.482512</td>\n",
              "      <td>0.637705</td>\n",
              "      <td>0.354405</td>\n",
              "    </tr>\n",
              "    <tr>\n",
              "      <th>161508</th>\n",
              "      <td>-0.953567</td>\n",
              "      <td>0.003536</td>\n",
              "      <td>0.468105</td>\n",
              "      <td>0.046956</td>\n",
              "      <td>-0.102547</td>\n",
              "      <td>-0.062065</td>\n",
              "      <td>-1.487598</td>\n",
              "      <td>0.413693</td>\n",
              "      <td>0.482512</td>\n",
              "      <td>0.637705</td>\n",
              "      <td>0.354405</td>\n",
              "    </tr>\n",
              "    <tr>\n",
              "      <th>298009</th>\n",
              "      <td>0.247533</td>\n",
              "      <td>0.003536</td>\n",
              "      <td>0.468105</td>\n",
              "      <td>0.046956</td>\n",
              "      <td>-0.102547</td>\n",
              "      <td>-0.062065</td>\n",
              "      <td>-1.018776</td>\n",
              "      <td>-2.194638</td>\n",
              "      <td>0.482512</td>\n",
              "      <td>0.637705</td>\n",
              "      <td>0.354405</td>\n",
              "    </tr>\n",
              "    <tr>\n",
              "      <th>30037</th>\n",
              "      <td>1.306325</td>\n",
              "      <td>0.003536</td>\n",
              "      <td>0.468105</td>\n",
              "      <td>0.046956</td>\n",
              "      <td>-0.102547</td>\n",
              "      <td>-0.062065</td>\n",
              "      <td>0.236839</td>\n",
              "      <td>0.119713</td>\n",
              "      <td>0.482512</td>\n",
              "      <td>0.637705</td>\n",
              "      <td>0.354405</td>\n",
              "    </tr>\n",
              "    <tr>\n",
              "      <th>1892</th>\n",
              "      <td>-0.029024</td>\n",
              "      <td>0.003536</td>\n",
              "      <td>0.468105</td>\n",
              "      <td>0.046956</td>\n",
              "      <td>-0.102547</td>\n",
              "      <td>-0.062065</td>\n",
              "      <td>-1.052756</td>\n",
              "      <td>-1.439918</td>\n",
              "      <td>0.482512</td>\n",
              "      <td>0.637705</td>\n",
              "      <td>0.354405</td>\n",
              "    </tr>\n",
              "    <tr>\n",
              "      <th>249007</th>\n",
              "      <td>-0.861485</td>\n",
              "      <td>0.003536</td>\n",
              "      <td>-2.136275</td>\n",
              "      <td>0.046956</td>\n",
              "      <td>-0.102547</td>\n",
              "      <td>-0.062065</td>\n",
              "      <td>-0.369338</td>\n",
              "      <td>1.229571</td>\n",
              "      <td>0.482512</td>\n",
              "      <td>0.637705</td>\n",
              "      <td>0.354405</td>\n",
              "    </tr>\n",
              "    <tr>\n",
              "      <th>154975</th>\n",
              "      <td>-0.170403</td>\n",
              "      <td>0.003536</td>\n",
              "      <td>0.468105</td>\n",
              "      <td>0.046956</td>\n",
              "      <td>-0.102547</td>\n",
              "      <td>-0.062065</td>\n",
              "      <td>1.291709</td>\n",
              "      <td>1.293734</td>\n",
              "      <td>0.482512</td>\n",
              "      <td>0.637705</td>\n",
              "      <td>0.354405</td>\n",
              "    </tr>\n",
              "    <tr>\n",
              "      <th>287133</th>\n",
              "      <td>0.406275</td>\n",
              "      <td>0.003536</td>\n",
              "      <td>0.468105</td>\n",
              "      <td>0.046956</td>\n",
              "      <td>1.855391</td>\n",
              "      <td>1.920050</td>\n",
              "      <td>-1.828534</td>\n",
              "      <td>-1.350595</td>\n",
              "      <td>0.482512</td>\n",
              "      <td>0.637705</td>\n",
              "      <td>-2.821627</td>\n",
              "    </tr>\n",
              "  </tbody>\n",
              "</table>\n",
              "</div>\n",
              "      <button class=\"colab-df-convert\" onclick=\"convertToInteractive('df-0afef3cd-75ee-43ee-8b93-784022fa74a4')\"\n",
              "              title=\"Convert this dataframe to an interactive table.\"\n",
              "              style=\"display:none;\">\n",
              "        \n",
              "  <svg xmlns=\"http://www.w3.org/2000/svg\" height=\"24px\"viewBox=\"0 0 24 24\"\n",
              "       width=\"24px\">\n",
              "    <path d=\"M0 0h24v24H0V0z\" fill=\"none\"/>\n",
              "    <path d=\"M18.56 5.44l.94 2.06.94-2.06 2.06-.94-2.06-.94-.94-2.06-.94 2.06-2.06.94zm-11 1L8.5 8.5l.94-2.06 2.06-.94-2.06-.94L8.5 2.5l-.94 2.06-2.06.94zm10 10l.94 2.06.94-2.06 2.06-.94-2.06-.94-.94-2.06-.94 2.06-2.06.94z\"/><path d=\"M17.41 7.96l-1.37-1.37c-.4-.4-.92-.59-1.43-.59-.52 0-1.04.2-1.43.59L10.3 9.45l-7.72 7.72c-.78.78-.78 2.05 0 2.83L4 21.41c.39.39.9.59 1.41.59.51 0 1.02-.2 1.41-.59l7.78-7.78 2.81-2.81c.8-.78.8-2.07 0-2.86zM5.41 20L4 18.59l7.72-7.72 1.47 1.35L5.41 20z\"/>\n",
              "  </svg>\n",
              "      </button>\n",
              "      \n",
              "  <style>\n",
              "    .colab-df-container {\n",
              "      display:flex;\n",
              "      flex-wrap:wrap;\n",
              "      gap: 12px;\n",
              "    }\n",
              "\n",
              "    .colab-df-convert {\n",
              "      background-color: #E8F0FE;\n",
              "      border: none;\n",
              "      border-radius: 50%;\n",
              "      cursor: pointer;\n",
              "      display: none;\n",
              "      fill: #1967D2;\n",
              "      height: 32px;\n",
              "      padding: 0 0 0 0;\n",
              "      width: 32px;\n",
              "    }\n",
              "\n",
              "    .colab-df-convert:hover {\n",
              "      background-color: #E2EBFA;\n",
              "      box-shadow: 0px 1px 2px rgba(60, 64, 67, 0.3), 0px 1px 3px 1px rgba(60, 64, 67, 0.15);\n",
              "      fill: #174EA6;\n",
              "    }\n",
              "\n",
              "    [theme=dark] .colab-df-convert {\n",
              "      background-color: #3B4455;\n",
              "      fill: #D2E3FC;\n",
              "    }\n",
              "\n",
              "    [theme=dark] .colab-df-convert:hover {\n",
              "      background-color: #434B5C;\n",
              "      box-shadow: 0px 1px 3px 1px rgba(0, 0, 0, 0.15);\n",
              "      filter: drop-shadow(0px 1px 2px rgba(0, 0, 0, 0.3));\n",
              "      fill: #FFFFFF;\n",
              "    }\n",
              "  </style>\n",
              "\n",
              "      <script>\n",
              "        const buttonEl =\n",
              "          document.querySelector('#df-0afef3cd-75ee-43ee-8b93-784022fa74a4 button.colab-df-convert');\n",
              "        buttonEl.style.display =\n",
              "          google.colab.kernel.accessAllowed ? 'block' : 'none';\n",
              "\n",
              "        async function convertToInteractive(key) {\n",
              "          const element = document.querySelector('#df-0afef3cd-75ee-43ee-8b93-784022fa74a4');\n",
              "          const dataTable =\n",
              "            await google.colab.kernel.invokeFunction('convertToInteractive',\n",
              "                                                     [key], {});\n",
              "          if (!dataTable) return;\n",
              "\n",
              "          const docLinkHtml = 'Like what you see? Visit the ' +\n",
              "            '<a target=\"_blank\" href=https://colab.research.google.com/notebooks/data_table.ipynb>data table notebook</a>'\n",
              "            + ' to learn more about interactive tables.';\n",
              "          element.innerHTML = '';\n",
              "          dataTable['output_type'] = 'display_data';\n",
              "          await google.colab.output.renderOutput(dataTable, element);\n",
              "          const docLink = document.createElement('div');\n",
              "          docLink.innerHTML = docLinkHtml;\n",
              "          element.appendChild(docLink);\n",
              "        }\n",
              "      </script>\n",
              "    </div>\n",
              "  </div>\n",
              "  "
            ]
          },
          "metadata": {},
          "execution_count": 17
        }
      ]
    },
    {
      "cell_type": "markdown",
      "source": [
        "# Уменьшение размерности"
      ],
      "metadata": {
        "id": "aflMdnTSOLHl"
      }
    },
    {
      "cell_type": "code",
      "source": [
        "X_train_embedded = TSNE(n_components=2, learning_rate = 'auto', n_jobs = -1).fit_transform(X_train[:10000])\n",
        "X_train_embedded.shape"
      ],
      "metadata": {
        "colab": {
          "base_uri": "https://localhost:8080/"
        },
        "id": "ardlZsJzOEc3",
        "outputId": "e58516eb-22ac-48f7-ce10-f83f322fb3e4"
      },
      "execution_count": 18,
      "outputs": [
        {
          "output_type": "stream",
          "name": "stderr",
          "text": [
            "/usr/local/lib/python3.8/dist-packages/sklearn/manifold/_t_sne.py:780: FutureWarning: The default initialization in TSNE will change from 'random' to 'pca' in 1.2.\n",
            "  warnings.warn(\n"
          ]
        },
        {
          "output_type": "execute_result",
          "data": {
            "text/plain": [
              "(10000, 2)"
            ]
          },
          "metadata": {},
          "execution_count": 18
        }
      ]
    },
    {
      "cell_type": "code",
      "source": [
        "X_train_embedded[:, 0].shape, X_train_embedded[:, 1].shape, y_train[:10000].shape"
      ],
      "metadata": {
        "colab": {
          "base_uri": "https://localhost:8080/"
        },
        "id": "XBPAD8xlOIWK",
        "outputId": "bcfffe37-8abc-46ea-95f8-71fb252ad22c"
      },
      "execution_count": 19,
      "outputs": [
        {
          "output_type": "execute_result",
          "data": {
            "text/plain": [
              "((10000,), (10000,), (10000,))"
            ]
          },
          "metadata": {},
          "execution_count": 19
        }
      ]
    },
    {
      "cell_type": "code",
      "source": [
        "fig, ax = plt.subplots()\n",
        "sns.set(rc={'figure.figsize': (15, 8)}, font_scale=1.2, style='darkgrid')\n",
        "sns.scatterplot(x = X_train_embedded[:, 0], y = X_train_embedded[:, 1], hue=y_train[:10000], palette='bright')\n",
        "ax.set_title('TSNE-распределение признаков', fontsize=20)\n",
        "plt.show()"
      ],
      "metadata": {
        "colab": {
          "base_uri": "https://localhost:8080/",
          "height": 286
        },
        "id": "Ekh57MP0OOGI",
        "outputId": "23dcf26c-eae4-4999-b2c6-357eba90690d"
      },
      "execution_count": 20,
      "outputs": [
        {
          "output_type": "display_data",
          "data": {
            "text/plain": [
              "<Figure size 432x288 with 1 Axes>"
            ],
            "image/png": "[encoded data removed]"
          },
          "metadata": {
            "needs_background": "light"
          }
        }
      ]
    },
    {
      "cell_type": "markdown",
      "source": [
        "# Обучение моделей"
      ],
      "metadata": {
        "id": "Dm_8GVRkOUH0"
      }
    },
    {
      "cell_type": "markdown",
      "source": [
        "## Логистическая регрессия"
      ],
      "metadata": {
        "id": "6AqKse1IObj_"
      }
    },
    {
      "cell_type": "code",
      "source": [
        "random_state = 1"
      ],
      "metadata": {
        "id": "3LBxQDmjORNY"
      },
      "execution_count": 21,
      "outputs": []
    },
    {
      "cell_type": "code",
      "source": [
        "params = dict(\n",
        "    C = [100, 10, 1, 0.1, 0.01, 0.001],\n",
        "    penalty=['l1', 'l2', 'elasticnet'],\n",
        "    solver=['saga'],\n",
        "    multi_class =['auto', 'ovr', 'multinomial'],\n",
        "    l1_ratio=[1]\n",
        ")"
      ],
      "metadata": {
        "id": "rdWnyqaUOeWY"
      },
      "execution_count": 22,
      "outputs": []
    },
    {
      "cell_type": "code",
      "source": [
        "lr = LogisticRegression()\n",
        "lr = RandomizedSearchCV(lr, params, n_jobs=-1, cv=5, random_state=random_state)\n",
        "lr.fit(X_train, y_train)"
      ],
      "metadata": {
        "colab": {
          "base_uri": "https://localhost:8080/"
        },
        "id": "sAMqCK4iOhVs",
        "outputId": "e671440e-b7d5-49c9-fb6c-6748086ada7e"
      },
      "execution_count": 23,
      "outputs": [
        {
          "output_type": "execute_result",
          "data": {
            "text/plain": [
              "RandomizedSearchCV(cv=5, estimator=LogisticRegression(), n_jobs=-1,\n",
              "                   param_distributions={'C': [100, 10, 1, 0.1, 0.01, 0.001],\n",
              "                                        'l1_ratio': [1],\n",
              "                                        'multi_class': ['auto', 'ovr',\n",
              "                                                        'multinomial'],\n",
              "                                        'penalty': ['l1', 'l2', 'elasticnet'],\n",
              "                                        'solver': ['saga']},\n",
              "                   random_state=1)"
            ]
          },
          "metadata": {},
          "execution_count": 23
        }
      ]
    },
    {
      "cell_type": "code",
      "source": [
        "best_params = lr.best_params_\n",
        "best_params"
      ],
      "metadata": {
        "colab": {
          "base_uri": "https://localhost:8080/"
        },
        "id": "ZWKxK3N3OjXm",
        "outputId": "f30a7875-c719-427f-d7d0-72fdcdf6a8f4"
      },
      "execution_count": 24,
      "outputs": [
        {
          "output_type": "execute_result",
          "data": {
            "text/plain": [
              "{'solver': 'saga',\n",
              " 'penalty': 'elasticnet',\n",
              " 'multi_class': 'auto',\n",
              " 'l1_ratio': 1,\n",
              " 'C': 0.001}"
            ]
          },
          "metadata": {},
          "execution_count": 24
        }
      ]
    },
    {
      "cell_type": "code",
      "source": [
        "for X, y, label in zip([X_train, X_valid], [y_train, y_valid], ['train', 'test']):\n",
        "  pred = lr.predict(X)\n",
        "  f1 = f1_score(y, lr.predict(X), average='micro').round(3)\n",
        "  \n",
        "  print(f'Acc {label}={accuracy_score(y, pred):.3f}')  \n",
        "  print(f'F1 {label}={f1}')\n",
        "  print(f'ROC_AUC {label}={roc_auc_score(y, lr.predict_proba(X)[:, 1]):.3f}\\n')"
      ],
      "metadata": {
        "colab": {
          "base_uri": "https://localhost:8080/"
        },
        "id": "Z2K7KndJOmAc",
        "outputId": "202144d4-d312-4a90-b0bb-bb0c698c9443"
      },
      "execution_count": 25,
      "outputs": [
        {
          "output_type": "stream",
          "name": "stdout",
          "text": [
            "Acc train=0.918\n",
            "F1 train=0.918\n",
            "ROC_AUC train=0.708\n",
            "\n",
            "Acc test=0.918\n",
            "F1 test=0.918\n",
            "ROC_AUC test=0.716\n",
            "\n"
          ]
        }
      ]
    },
    {
      "cell_type": "code",
      "source": [
        "print(classification_report(y_train, lr.predict(X_train)))"
      ],
      "metadata": {
        "colab": {
          "base_uri": "https://localhost:8080/"
        },
        "id": "iqXe3TE_Oocp",
        "outputId": "e37e66ea-ee0c-4ee0-addf-52c07ea443e8"
      },
      "execution_count": 26,
      "outputs": [
        {
          "output_type": "stream",
          "name": "stdout",
          "text": [
            "              precision    recall  f1-score   support\n",
            "\n",
            "           0       0.92      1.00      0.96     73432\n",
            "           1       0.00      0.00      0.00      6568\n",
            "\n",
            "    accuracy                           0.92     80000\n",
            "   macro avg       0.46      0.50      0.48     80000\n",
            "weighted avg       0.84      0.92      0.88     80000\n",
            "\n"
          ]
        },
        {
          "output_type": "stream",
          "name": "stderr",
          "text": [
            "/usr/local/lib/python3.8/dist-packages/sklearn/metrics/_classification.py:1318: UndefinedMetricWarning: Precision and F-score are ill-defined and being set to 0.0 in labels with no predicted samples. Use `zero_division` parameter to control this behavior.\n",
            "  _warn_prf(average, modifier, msg_start, len(result))\n",
            "/usr/local/lib/python3.8/dist-packages/sklearn/metrics/_classification.py:1318: UndefinedMetricWarning: Precision and F-score are ill-defined and being set to 0.0 in labels with no predicted samples. Use `zero_division` parameter to control this behavior.\n",
            "  _warn_prf(average, modifier, msg_start, len(result))\n",
            "/usr/local/lib/python3.8/dist-packages/sklearn/metrics/_classification.py:1318: UndefinedMetricWarning: Precision and F-score are ill-defined and being set to 0.0 in labels with no predicted samples. Use `zero_division` parameter to control this behavior.\n",
            "  _warn_prf(average, modifier, msg_start, len(result))\n"
          ]
        }
      ]
    },
    {
      "cell_type": "code",
      "source": [
        "print(classification_report(y_valid, lr.predict(X_valid)))"
      ],
      "metadata": {
        "colab": {
          "base_uri": "https://localhost:8080/"
        },
        "id": "sHQ9iw9pOqse",
        "outputId": "4367bff1-a8fb-45c7-cd66-dbd4edbcefda"
      },
      "execution_count": 27,
      "outputs": [
        {
          "output_type": "stream",
          "name": "stdout",
          "text": [
            "              precision    recall  f1-score   support\n",
            "\n",
            "           0       0.92      1.00      0.96     18358\n",
            "           1       0.00      0.00      0.00      1642\n",
            "\n",
            "    accuracy                           0.92     20000\n",
            "   macro avg       0.46      0.50      0.48     20000\n",
            "weighted avg       0.84      0.92      0.88     20000\n",
            "\n"
          ]
        },
        {
          "output_type": "stream",
          "name": "stderr",
          "text": [
            "/usr/local/lib/python3.8/dist-packages/sklearn/metrics/_classification.py:1318: UndefinedMetricWarning: Precision and F-score are ill-defined and being set to 0.0 in labels with no predicted samples. Use `zero_division` parameter to control this behavior.\n",
            "  _warn_prf(average, modifier, msg_start, len(result))\n",
            "/usr/local/lib/python3.8/dist-packages/sklearn/metrics/_classification.py:1318: UndefinedMetricWarning: Precision and F-score are ill-defined and being set to 0.0 in labels with no predicted samples. Use `zero_division` parameter to control this behavior.\n",
            "  _warn_prf(average, modifier, msg_start, len(result))\n",
            "/usr/local/lib/python3.8/dist-packages/sklearn/metrics/_classification.py:1318: UndefinedMetricWarning: Precision and F-score are ill-defined and being set to 0.0 in labels with no predicted samples. Use `zero_division` parameter to control this behavior.\n",
            "  _warn_prf(average, modifier, msg_start, len(result))\n"
          ]
        }
      ]
    },
    {
      "cell_type": "markdown",
      "source": [
        "## Случайный лес"
      ],
      "metadata": {
        "id": "EZEEE6VkOvne"
      }
    },
    {
      "cell_type": "code",
      "source": [
        "params = dict(\n",
        "    n_estimators = range(5, 150, 5),\n",
        "    min_samples_split = range(1, 20, 2),\n",
        "    min_samples_leaf = range(1, 20, 2),\n",
        "    max_samples = np.linspace(0, 1, 20)\n",
        ")"
      ],
      "metadata": {
        "id": "Ydzq72XrOs-e"
      },
      "execution_count": 28,
      "outputs": []
    },
    {
      "cell_type": "code",
      "source": [
        "rf = RandomForestClassifier()\n",
        "rf = RandomizedSearchCV(rf, params, n_jobs=-1, cv=5, random_state=random_state)\n",
        "rf.fit(X_train, y_train)"
      ],
      "metadata": {
        "colab": {
          "base_uri": "https://localhost:8080/"
        },
        "id": "A0DbcQcGOyg3",
        "outputId": "4909af72-e3d7-4c14-efa5-5b39299b1144"
      },
      "execution_count": 29,
      "outputs": [
        {
          "output_type": "execute_result",
          "data": {
            "text/plain": [
              "RandomizedSearchCV(cv=5, estimator=RandomForestClassifier(), n_jobs=-1,\n",
              "                   param_distributions={'max_samples': array([0.        , 0.05263158, 0.10526316, 0.15789474, 0.21052632,\n",
              "       0.26315789, 0.31578947, 0.36842105, 0.42105263, 0.47368421,\n",
              "       0.52631579, 0.57894737, 0.63157895, 0.68421053, 0.73684211,\n",
              "       0.78947368, 0.84210526, 0.89473684, 0.94736842, 1.        ]),\n",
              "                                        'min_samples_leaf': range(1, 20, 2),\n",
              "                                        'min_samples_split': range(1, 20, 2),\n",
              "                                        'n_estimators': range(5, 150, 5)},\n",
              "                   random_state=1)"
            ]
          },
          "metadata": {},
          "execution_count": 29
        }
      ]
    },
    {
      "cell_type": "code",
      "source": [
        "best_params = rf.best_params_\n",
        "best_params"
      ],
      "metadata": {
        "colab": {
          "base_uri": "https://localhost:8080/"
        },
        "id": "j7DG3OS5O1FO",
        "outputId": "4de0f01f-572d-4d70-8e7b-582a257d7985"
      },
      "execution_count": 30,
      "outputs": [
        {
          "output_type": "execute_result",
          "data": {
            "text/plain": [
              "{'n_estimators': 110,\n",
              " 'min_samples_split': 19,\n",
              " 'min_samples_leaf': 3,\n",
              " 'max_samples': 0.21052631578947367}"
            ]
          },
          "metadata": {},
          "execution_count": 30
        }
      ]
    },
    {
      "cell_type": "code",
      "source": [
        "for X, y, label in zip([X_train, X_valid], [y_train, y_valid], ['train', 'test']):\n",
        "  pred = rf.predict(X)\n",
        "  f1 = f1_score(y, rf.predict(X), average='micro').round(3)\n",
        "  \n",
        "  print(f'Acc {label}={accuracy_score(y, pred):.3f}')  \n",
        "  print(f'F1 {label}={f1}')\n",
        "  print(f'ROC_AUC {label}={roc_auc_score(y, rf.predict_proba(X)[:, 1]):.3f}\\n')"
      ],
      "metadata": {
        "colab": {
          "base_uri": "https://localhost:8080/"
        },
        "id": "dB0P95k9O6Yy",
        "outputId": "4d65d562-0d67-4286-a1a3-eddab21d0749"
      },
      "execution_count": 31,
      "outputs": [
        {
          "output_type": "stream",
          "name": "stdout",
          "text": [
            "Acc train=0.918\n",
            "F1 train=0.918\n",
            "ROC_AUC train=0.849\n",
            "\n",
            "Acc test=0.918\n",
            "F1 test=0.918\n",
            "ROC_AUC test=0.722\n",
            "\n"
          ]
        }
      ]
    },
    {
      "cell_type": "code",
      "source": [
        "print(classification_report(y_train, rf.predict(X_train)))"
      ],
      "metadata": {
        "colab": {
          "base_uri": "https://localhost:8080/"
        },
        "id": "2nMdMEgRO9hA",
        "outputId": "2b8c12e8-6d3b-4549-8442-542b298f7911"
      },
      "execution_count": 32,
      "outputs": [
        {
          "output_type": "stream",
          "name": "stdout",
          "text": [
            "              precision    recall  f1-score   support\n",
            "\n",
            "           0       0.92      1.00      0.96     73432\n",
            "           1       0.82      0.01      0.02      6568\n",
            "\n",
            "    accuracy                           0.92     80000\n",
            "   macro avg       0.87      0.50      0.49     80000\n",
            "weighted avg       0.91      0.92      0.88     80000\n",
            "\n"
          ]
        }
      ]
    },
    {
      "cell_type": "code",
      "source": [
        "print(classification_report(y_valid, rf.predict(X_valid)))"
      ],
      "metadata": {
        "colab": {
          "base_uri": "https://localhost:8080/"
        },
        "id": "K3b3xZ7HPAG8",
        "outputId": "2de4c1ae-9c4c-43e9-cd6d-33239dc285f7"
      },
      "execution_count": 33,
      "outputs": [
        {
          "output_type": "stream",
          "name": "stdout",
          "text": [
            "              precision    recall  f1-score   support\n",
            "\n",
            "           0       0.92      1.00      0.96     18358\n",
            "           1       0.58      0.00      0.01      1642\n",
            "\n",
            "    accuracy                           0.92     20000\n",
            "   macro avg       0.75      0.50      0.48     20000\n",
            "weighted avg       0.89      0.92      0.88     20000\n",
            "\n"
          ]
        }
      ]
    },
    {
      "cell_type": "markdown",
      "source": [
        "## Дерево решений"
      ],
      "metadata": {
        "id": "l7L_qfr_PG1i"
      }
    },
    {
      "cell_type": "code",
      "source": [
        "params = dict(\n",
        "    max_depth = [3, None],\n",
        "    max_features = range(1, 9, 1),\n",
        "    min_samples_leaf = range(1, 9, 1),\n",
        "    criterion = [\"gini\", \"entropy\"]\n",
        ")"
      ],
      "metadata": {
        "id": "rjax_BrfPH_6"
      },
      "execution_count": 34,
      "outputs": []
    },
    {
      "cell_type": "code",
      "source": [
        "dt = DecisionTreeClassifier()\n",
        "dt = RandomizedSearchCV(dt, params, n_jobs=-1, cv=5, random_state=random_state)\n",
        "dt.fit(X_train, y_train)"
      ],
      "metadata": {
        "colab": {
          "base_uri": "https://localhost:8080/"
        },
        "id": "X5inzXzkPJ-0",
        "outputId": "0fd2fb7f-d970-46d9-a564-98f6e8a1e6f2"
      },
      "execution_count": 35,
      "outputs": [
        {
          "output_type": "execute_result",
          "data": {
            "text/plain": [
              "RandomizedSearchCV(cv=5, estimator=DecisionTreeClassifier(), n_jobs=-1,\n",
              "                   param_distributions={'criterion': ['gini', 'entropy'],\n",
              "                                        'max_depth': [3, None],\n",
              "                                        'max_features': range(1, 9),\n",
              "                                        'min_samples_leaf': range(1, 9)},\n",
              "                   random_state=1)"
            ]
          },
          "metadata": {},
          "execution_count": 35
        }
      ]
    },
    {
      "cell_type": "code",
      "source": [
        "best_params = dt.best_params_\n",
        "best_params"
      ],
      "metadata": {
        "colab": {
          "base_uri": "https://localhost:8080/"
        },
        "id": "WGOxyUpaPMSq",
        "outputId": "7f54f225-d1bf-4475-bd46-4bf1c3e23186"
      },
      "execution_count": 36,
      "outputs": [
        {
          "output_type": "execute_result",
          "data": {
            "text/plain": [
              "{'min_samples_leaf': 8,\n",
              " 'max_features': 7,\n",
              " 'max_depth': 3,\n",
              " 'criterion': 'entropy'}"
            ]
          },
          "metadata": {},
          "execution_count": 36
        }
      ]
    },
    {
      "cell_type": "code",
      "source": [
        "for X, y, label in zip([X_train, X_valid], [y_train, y_valid], ['train', 'test']):\n",
        "  pred = dt.predict(X)\n",
        "  f1 = f1_score(y, dt.predict(X), average='micro').round(3)\n",
        "  \n",
        "  print(f'Acc {label}={accuracy_score(y, pred):.3f}')  \n",
        "  print(f'F1 {label}={f1}')\n",
        "  print(f'ROC_AUC {label}={roc_auc_score(y, dt.predict_proba(X)[:, 1]):.3f}\\n')"
      ],
      "metadata": {
        "colab": {
          "base_uri": "https://localhost:8080/"
        },
        "id": "_E8PlUrjPOs8",
        "outputId": "31b9c6ec-4963-42b9-8383-4e1d69770410"
      },
      "execution_count": 37,
      "outputs": [
        {
          "output_type": "stream",
          "name": "stdout",
          "text": [
            "Acc train=0.918\n",
            "F1 train=0.918\n",
            "ROC_AUC train=0.689\n",
            "\n",
            "Acc test=0.918\n",
            "F1 test=0.918\n",
            "ROC_AUC test=0.697\n",
            "\n"
          ]
        }
      ]
    },
    {
      "cell_type": "code",
      "source": [
        "print(classification_report(y_train, dt.predict(X_train)))"
      ],
      "metadata": {
        "colab": {
          "base_uri": "https://localhost:8080/"
        },
        "id": "adi1CN_UPQ-4",
        "outputId": "3ed70eab-46c0-45cd-8632-57ef98f20e1e"
      },
      "execution_count": 38,
      "outputs": [
        {
          "output_type": "stream",
          "name": "stdout",
          "text": [
            "              precision    recall  f1-score   support\n",
            "\n",
            "           0       0.92      1.00      0.96     73432\n",
            "           1       0.00      0.00      0.00      6568\n",
            "\n",
            "    accuracy                           0.92     80000\n",
            "   macro avg       0.46      0.50      0.48     80000\n",
            "weighted avg       0.84      0.92      0.88     80000\n",
            "\n"
          ]
        },
        {
          "output_type": "stream",
          "name": "stderr",
          "text": [
            "/usr/local/lib/python3.8/dist-packages/sklearn/metrics/_classification.py:1318: UndefinedMetricWarning: Precision and F-score are ill-defined and being set to 0.0 in labels with no predicted samples. Use `zero_division` parameter to control this behavior.\n",
            "  _warn_prf(average, modifier, msg_start, len(result))\n",
            "/usr/local/lib/python3.8/dist-packages/sklearn/metrics/_classification.py:1318: UndefinedMetricWarning: Precision and F-score are ill-defined and being set to 0.0 in labels with no predicted samples. Use `zero_division` parameter to control this behavior.\n",
            "  _warn_prf(average, modifier, msg_start, len(result))\n",
            "/usr/local/lib/python3.8/dist-packages/sklearn/metrics/_classification.py:1318: UndefinedMetricWarning: Precision and F-score are ill-defined and being set to 0.0 in labels with no predicted samples. Use `zero_division` parameter to control this behavior.\n",
            "  _warn_prf(average, modifier, msg_start, len(result))\n"
          ]
        }
      ]
    },
    {
      "cell_type": "code",
      "source": [
        "print(classification_report(y_valid, dt.predict(X_valid)))"
      ],
      "metadata": {
        "colab": {
          "base_uri": "https://localhost:8080/"
        },
        "id": "FWadW3zHPTKO",
        "outputId": "dc52d8a5-2a85-4512-da39-1f3600116b5d"
      },
      "execution_count": 39,
      "outputs": [
        {
          "output_type": "stream",
          "name": "stdout",
          "text": [
            "              precision    recall  f1-score   support\n",
            "\n",
            "           0       0.92      1.00      0.96     18358\n",
            "           1       0.00      0.00      0.00      1642\n",
            "\n",
            "    accuracy                           0.92     20000\n",
            "   macro avg       0.46      0.50      0.48     20000\n",
            "weighted avg       0.84      0.92      0.88     20000\n",
            "\n"
          ]
        },
        {
          "output_type": "stream",
          "name": "stderr",
          "text": [
            "/usr/local/lib/python3.8/dist-packages/sklearn/metrics/_classification.py:1318: UndefinedMetricWarning: Precision and F-score are ill-defined and being set to 0.0 in labels with no predicted samples. Use `zero_division` parameter to control this behavior.\n",
            "  _warn_prf(average, modifier, msg_start, len(result))\n",
            "/usr/local/lib/python3.8/dist-packages/sklearn/metrics/_classification.py:1318: UndefinedMetricWarning: Precision and F-score are ill-defined and being set to 0.0 in labels with no predicted samples. Use `zero_division` parameter to control this behavior.\n",
            "  _warn_prf(average, modifier, msg_start, len(result))\n",
            "/usr/local/lib/python3.8/dist-packages/sklearn/metrics/_classification.py:1318: UndefinedMetricWarning: Precision and F-score are ill-defined and being set to 0.0 in labels with no predicted samples. Use `zero_division` parameter to control this behavior.\n",
            "  _warn_prf(average, modifier, msg_start, len(result))\n"
          ]
        }
      ]
    },
    {
      "cell_type": "markdown",
      "source": [
        "# Вывод\n",
        "Из исходного датасета было взято 100 тысяч строк.\n",
        "\n",
        "Было сделано:\n",
        "\n",
        "* Удаление столбоцов с пропусками более 50%.\n",
        "* Заполнение оставшихся пропусков в числовых признаках на медианное значение по столбцу, а в категориальных признаках - на моду.\n",
        "* Произведено кодировние категориальных признаков.\n",
        "* Построена матрица важности признаков по отношению к целевому признаку, и эмпирическим путём удалены неважные признаки.\n",
        "* Произведено масштабирование признаков.\n",
        "* Сделано уменьшение размерности с помощью TSNE (использовалась выборка из 10 тыс.строк). На визуализации четкие кластеры по целевому признаку не выделяются.\n",
        "* Были обучены четыре модели классификации с предварительным поиском гиперпараметров с помощью RandomizedSearchCV: логистическая регрессия, случайный лес и дерево решений. Лучше всех себя показала логистическая регрессия:\n",
        " * Acc test=0.920\n",
        " * F1 test=0.92\n",
        " * ROC_AUC test=0.710"
      ],
      "metadata": {
        "id": "86k1sjKUPi2y"
      }
    }
  ]
}